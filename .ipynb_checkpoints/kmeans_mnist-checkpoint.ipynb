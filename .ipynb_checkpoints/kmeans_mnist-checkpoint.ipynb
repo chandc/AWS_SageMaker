{
 "cells": [
  {
   "cell_type": "markdown",
   "metadata": {},
   "source": [
    "# End-to-End Example #1\n",
    "\n",
    "1. [Introduction](#Introduction)\n",
    "2. [Prerequisites and Preprocessing](#Prequisites-and-Preprocessing)\n",
    "  1. [Permissions and environment variables](#Permissions-and-environment-variables)\n",
    "  2. [Data ingestion](#Data-ingestion)\n",
    "  3. [Data inspection](#Data-inspection)\n",
    "  4. [Data conversion](#Data-conversion)\n",
    "3. [Training the K-Means model](#Training-the-K-Means-model)\n",
    "4. [Set up hosting for the model](#Set-up-hosting-for-the-model)\n",
    "5. [Validate the model for use](#Validate-the-model-for-use)\n"
   ]
  },
  {
   "cell_type": "markdown",
   "metadata": {},
   "source": [
    "## Introduction\n",
    "\n",
    "Welcome to our first end-to-end example! Today, we're working through a classification problem, specifically of images of handwritten digits, from zero to nine. Let's imagine that this dataset doesn't have labels, so we don't know for sure what the true answer is. In later examples, we'll show the value of \"ground truth\", as it's commonly known.\n",
    "\n",
    "Today, however, we need to get these digits classified without ground truth. A common method for doing this is a set of methods known as \"clustering\", and in particular, the method that we'll look at today is called k-means clustering. In this method, each point belongs to the cluster with the closest mean, and the data is partitioned into a number of clusters that is specified when framing the problem. In this case, since we know there are 10 clusters, and we have no labeled data (in the way we framed the problem), this is a good fit.\n",
    "\n",
    "To get started, we need to set up the environment with a few prerequisite steps, for permissions, configurations, and so on."
   ]
  },
  {
   "cell_type": "markdown",
   "metadata": {},
   "source": [
    "## Prequisites and Preprocessing\n",
    "\n",
    "### Permissions and environment variables\n",
    "\n",
    "Here we set up the linkage and authentication to AWS services. There are two parts to this:\n",
    "\n",
    "1. The role(s) used to give learning and hosting access to your data. Here we extract the role you created earlier for accessing your notebook. See the documentation if you want to specify a different role.\n",
    "1. The S3 bucket name that you want to use for training and model data. Here we use a default in the form of `sagemaker-{region}-{AWS account ID}`, but you may specify a different one if you wish."
   ]
  },
  {
   "cell_type": "code",
   "execution_count": 1,
   "metadata": {},
   "outputs": [],
   "source": [
    "%matplotlib inline"
   ]
  },
  {
   "cell_type": "code",
   "execution_count": 2,
   "metadata": {
    "isConfigCell": true
   },
   "outputs": [
    {
     "name": "stderr",
     "output_type": "stream",
     "text": [
      "INFO:sagemaker:Created S3 bucket: sagemaker-us-east-1-719114773975\n"
     ]
    }
   ],
   "source": [
    "from sagemaker import get_execution_role\n",
    "from sagemaker.session import Session\n",
    "\n",
    "role = get_execution_role()\n",
    "bucket = Session().default_bucket()"
   ]
  },
  {
   "cell_type": "markdown",
   "metadata": {},
   "source": [
    "### Data ingestion\n",
    "\n",
    "Next, we read the dataset from the existing repository into memory, for preprocessing prior to training.  In this case we'll use the MNIST dataset, which contains 70K 28 x 28 pixel images of handwritten digits.  For more details, please see [here](http://yann.lecun.com/exdb/mnist/).\n",
    "\n",
    "This processing could be done *in situ* by Amazon Athena, Apache Spark in Amazon EMR, Amazon Redshift, etc., assuming the dataset is present in the appropriate location. Then, the next step would be to transfer the data to S3 for use in training. For small datasets, such as this one, reading into memory isn't onerous, though it would be for larger datasets."
   ]
  },
  {
   "cell_type": "code",
   "execution_count": 3,
   "metadata": {},
   "outputs": [
    {
     "name": "stdout",
     "output_type": "stream",
     "text": [
      "CPU times: user 997 ms, sys: 330 ms, total: 1.33 s\n",
      "Wall time: 1.47 s\n"
     ]
    }
   ],
   "source": [
    "%%time\n",
    "import pickle, gzip, numpy, boto3, json\n",
    "\n",
    "# Load the dataset\n",
    "region = boto3.Session().region_name\n",
    "boto3.Session().resource('s3', region_name=region).Bucket('sagemaker-sample-data-{}'.format(region)).download_file('algorithms/kmeans/mnist/mnist.pkl.gz', 'mnist.pkl.gz')\n",
    "with gzip.open('mnist.pkl.gz', 'rb') as f:\n",
    "    train_set, valid_set, test_set = pickle.load(f, encoding='latin1')"
   ]
  },
  {
   "cell_type": "markdown",
   "metadata": {},
   "source": [
    "### Data inspection\n",
    "\n",
    "Once the dataset is imported, it's typical as part of the machine learning process to inspect the data, understand the distributions, and determine what type(s) of preprocessing might be needed. You can perform those tasks right here in the notebook. As an example, let's go ahead and look at one of the digits that is part of the dataset."
   ]
  },
  {
   "cell_type": "code",
   "execution_count": 4,
   "metadata": {},
   "outputs": [
    {
     "data": {
      "image/png": "[encoded data removed]",
      "text/plain": [
       "<Figure size 144x720 with 1 Axes>"
      ]
     },
     "metadata": {},
     "output_type": "display_data"
    }
   ],
   "source": [
    "import matplotlib.pyplot as plt\n",
    "plt.rcParams[\"figure.figsize\"] = (2,10)\n",
    "\n",
    "\n",
    "def show_digit(img, caption='', subplot=None):\n",
    "    if subplot==None:\n",
    "        _,(subplot)=plt.subplots(1,1)\n",
    "    imgr=img.reshape((28,28))\n",
    "    subplot.axis('off')\n",
    "    subplot.imshow(imgr, cmap='gray')\n",
    "    plt.title(caption)\n",
    "\n",
    "show_digit(train_set[0][30], 'This is a {}'.format(train_set[1][30]))"
   ]
  },
  {
   "cell_type": "markdown",
   "metadata": {},
   "source": [
    "## Training the K-Means model\n",
    "\n",
    "Once we have the data preprocessed and available in the correct format for training, the next step is to actually train the model using the data. Since this data is relatively small, it isn't meant to show off the performance of the k-means training algorithm.  But Amazon SageMaker's k-means has been tested on, and scales well with, multi-terabyte datasets.\n",
    "\n",
    "After setting training parameters, we kick off training, and poll for status until training is completed, which in this example, takes around 4 minutes."
   ]
  },
  {
   "cell_type": "code",
   "execution_count": 5,
   "metadata": {},
   "outputs": [
    {
     "name": "stdout",
     "output_type": "stream",
     "text": [
      "training data will be uploaded to: s3://sagemaker-us-east-1-719114773975/kmeans_highlevel_example/data\n",
      "training artifacts will be uploaded to: s3://sagemaker-us-east-1-719114773975/kmeans_example/output\n"
     ]
    }
   ],
   "source": [
    "from sagemaker import KMeans\n",
    "\n",
    "data_location = 's3://{}/kmeans_highlevel_example/data'.format(bucket)\n",
    "output_location = 's3://{}/kmeans_example/output'.format(bucket)\n",
    "\n",
    "print('training data will be uploaded to: {}'.format(data_location))\n",
    "print('training artifacts will be uploaded to: {}'.format(output_location))\n",
    "\n",
    "kmeans = KMeans(role=role,\n",
    "                train_instance_count=2,\n",
    "                train_instance_type='ml.c4.xlarge',\n",
    "                output_path=output_location,\n",
    "                k=10,\n",
    "                data_location=data_location)"
   ]
  },
  {
   "cell_type": "code",
   "execution_count": 6,
   "metadata": {},
   "outputs": [
    {
     "name": "stderr",
     "output_type": "stream",
     "text": [
      "INFO:sagemaker:Creating training-job with name: kmeans-2019-04-08-20-43-00-902\n"
     ]
    },
    {
     "name": "stdout",
     "output_type": "stream",
     "text": [
      "2019-04-08 20:43:01 Starting - Starting the training job...\n",
      "2019-04-08 20:43:02 Starting - Launching requested ML instances......\n",
      "2019-04-08 20:44:10 Starting - Preparing the instances for training.........\n",
      "2019-04-08 20:46:02 Downloading - Downloading input data\n",
      "2019-04-08 20:46:02 Training - Downloading the training image.\n",
      "\u001b[31mDocker entrypoint called with argument(s): train\u001b[0m\n",
      "\u001b[31m[04/08/2019 20:46:07 INFO 139995574654784] Reading default configuration from /opt/amazon/lib/python2.7/site-packages/algorithm/resources/default-input.json: {u'_enable_profiler': u'false', u'_tuning_objective_metric': u'', u'_num_gpus': u'auto', u'local_lloyd_num_trials': u'auto', u'_log_level': u'info', u'_kvstore': u'auto', u'local_lloyd_init_method': u'kmeans++', u'force_dense': u'true', u'epochs': u'1', u'init_method': u'random', u'local_lloyd_tol': u'0.0001', u'local_lloyd_max_iter': u'300', u'_disable_wait_to_read': u'false', u'extra_center_factor': u'auto', u'eval_metrics': u'[\"msd\"]', u'_num_kv_servers': u'1', u'mini_batch_size': u'5000', u'half_life_time_size': u'0', u'_num_slices': u'1'}\u001b[0m\n",
      "\u001b[31m[04/08/2019 20:46:07 INFO 139995574654784] Reading provided configuration from /opt/ml/input/config/hyperparameters.json: {u'feature_dim': u'784', u'k': u'10', u'force_dense': u'True'}\u001b[0m\n",
      "\u001b[31m[04/08/2019 20:46:07 INFO 139995574654784] Final configuration: {u'_tuning_objective_metric': u'', u'extra_center_factor': u'auto', u'local_lloyd_init_method': u'kmeans++', u'force_dense': u'True', u'epochs': u'1', u'feature_dim': u'784', u'local_lloyd_tol': u'0.0001', u'_disable_wait_to_read': u'false', u'eval_metrics': u'[\"msd\"]', u'_num_kv_servers': u'1', u'mini_batch_size': u'5000', u'_enable_profiler': u'false', u'_num_gpus': u'auto', u'local_lloyd_num_trials': u'auto', u'_log_level': u'info', u'init_method': u'random', u'half_life_time_size': u'0', u'local_lloyd_max_iter': u'300', u'_kvstore': u'auto', u'k': u'10', u'_num_slices': u'1'}\u001b[0m\n",
      "\u001b[31m[04/08/2019 20:46:07 WARNING 139995574654784] Loggers have already been setup.\u001b[0m\n",
      "\u001b[31mDocker entrypoint called with argument(s): train\u001b[0m\n",
      "\u001b[31m[04/08/2019 20:46:09 INFO 139768500823872] Reading default configuration from /opt/amazon/lib/python2.7/site-packages/algorithm/resources/default-input.json: {u'_enable_profiler': u'false', u'_tuning_objective_metric': u'', u'_num_gpus': u'auto', u'local_lloyd_num_trials': u'auto', u'_log_level': u'info', u'_kvstore': u'auto', u'local_lloyd_init_method': u'kmeans++', u'force_dense': u'true', u'epochs': u'1', u'init_method': u'random', u'local_lloyd_tol': u'0.0001', u'local_lloyd_max_iter': u'300', u'_disable_wait_to_read': u'false', u'extra_center_factor': u'auto', u'eval_metrics': u'[\"msd\"]', u'_num_kv_servers': u'1', u'mini_batch_size': u'5000', u'half_life_time_size': u'0', u'_num_slices': u'1'}\u001b[0m\n",
      "\u001b[31m[04/08/2019 20:46:09 INFO 139768500823872] Reading provided configuration from /opt/ml/input/config/hyperparameters.json: {u'feature_dim': u'784', u'k': u'10', u'force_dense': u'True'}\u001b[0m\n",
      "\u001b[31m[04/08/2019 20:46:09 INFO 139768500823872] Final configuration: {u'_tuning_objective_metric': u'', u'extra_center_factor': u'auto', u'local_lloyd_init_method': u'kmeans++', u'force_dense': u'True', u'epochs': u'1', u'feature_dim': u'784', u'local_lloyd_tol': u'0.0001', u'_disable_wait_to_read': u'false', u'eval_metrics': u'[\"msd\"]', u'_num_kv_servers': u'1', u'mini_batch_size': u'5000', u'_enable_profiler': u'false', u'_num_gpus': u'auto', u'local_lloyd_num_trials': u'auto', u'_log_level': u'info', u'init_method': u'random', u'half_life_time_size': u'0', u'local_lloyd_max_iter': u'300', u'_kvstore': u'auto', u'k': u'10', u'_num_slices': u'1'}\u001b[0m\n",
      "\u001b[31m[04/08/2019 20:46:09 WARNING 139768500823872] Loggers have already been setup.\u001b[0m\n",
      "\u001b[31m[04/08/2019 20:46:09 INFO 139768500823872] Launching parameter server for role scheduler\u001b[0m\n",
      "\u001b[31m[04/08/2019 20:46:09 INFO 139768500823872] {'ECS_CONTAINER_METADATA_URI': 'http://169.254.170.2/v3/de2ea553-fd40-4255-b340-29c71c909aba', 'PROTOCOL_BUFFERS_PYTHON_IMPLEMENTATION_VERSION': '2', 'PATH': '/opt/amazon/bin:/usr/local/nvidia/bin:/usr/local/sbin:/usr/local/bin:/usr/sbin:/usr/bin:/sbin:/bin:/opt/amazon/bin:/opt/amazon/bin', 'SAGEMAKER_HTTP_PORT': '8080', 'HOME': '/root', 'PYTHONUNBUFFERED': 'TRUE', 'CANONICAL_ENVROOT': '/opt/amazon', 'LD_LIBRARY_PATH': '/opt/amazon/lib/python2.7/site-packages/cv2/../../../../lib:/usr/local/nvidia/lib64:/opt/amazon/lib', 'MXNET_KVSTORE_BIGARRAY_BOUND': '400000000', 'LANG': 'en_US.utf8', 'DMLC_INTERFACE': 'ethwe', 'SHLVL': '1', 'AWS_REGION': 'us-east-1', 'NVIDIA_VISIBLE_DEVICES': 'all', 'TRAINING_JOB_NAME': 'kmeans-2019-04-08-20-43-00-902', 'PROTOCOL_BUFFERS_PYTHON_IMPLEMENTATION': 'cpp', 'ENVROOT': '/opt/amazon', 'SAGEMAKER_DATA_PATH': '/opt/ml', 'NVIDIA_DRIVER_CAPABILITIES': 'compute,utility', 'NVIDIA_REQUIRE_CUDA': 'cuda>=9.0', 'OMP_NUM_THREADS': '2', 'HOSTNAME': 'aws', 'AWS_CONTAINER_CREDENTIALS_RELATIVE_URI': '/v2/credentials/a41d4b48-1fc8-4990-8092-dc48b475b5ed', 'PWD': '/', 'AWS_EXECUTION_ENV': 'AWS_ECS_EC2'}\u001b[0m\n",
      "\u001b[31m[04/08/2019 20:46:09 INFO 139768500823872] envs={'ECS_CONTAINER_METADATA_URI': 'http://169.254.170.2/v3/de2ea553-fd40-4255-b340-29c71c909aba', 'PROTOCOL_BUFFERS_PYTHON_IMPLEMENTATION_VERSION': '2', 'DMLC_NUM_WORKER': '2', 'DMLC_PS_ROOT_PORT': '9000', 'PATH': '/opt/amazon/bin:/usr/local/nvidia/bin:/usr/local/sbin:/usr/local/bin:/usr/sbin:/usr/bin:/sbin:/bin:/opt/amazon/bin:/opt/amazon/bin', 'SAGEMAKER_HTTP_PORT': '8080', 'HOME': '/root', 'PYTHONUNBUFFERED': 'TRUE', 'CANONICAL_ENVROOT': '/opt/amazon', 'LD_LIBRARY_PATH': '/opt/amazon/lib/python2.7/site-packages/cv2/../../../../lib:/usr/local/nvidia/lib64:/opt/amazon/lib', 'MXNET_KVSTORE_BIGARRAY_BOUND': '400000000', 'LANG': 'en_US.utf8', 'DMLC_INTERFACE': 'ethwe', 'SHLVL': '1', 'DMLC_PS_ROOT_URI': '10.32.0.5', 'AWS_REGION': 'us-east-1', 'NVIDIA_VISIBLE_DEVICES': 'all', 'TRAINING_JOB_NAME': 'kmeans-2019-04-08-20-43-00-902', 'PROTOCOL_BUFFERS_PYTHON_IMPLEMENTATION': 'cpp', 'ENVROOT': '/opt/amazon', 'SAGEMAKER_DATA_PATH': '/opt/ml', 'NVIDIA_DRIVER_CAPABILITIES': 'compute,utility', 'NVIDIA_REQUIRE_CUDA': 'cuda>=9.0', 'OMP_NUM_THREADS': '2', 'HOSTNAME': 'aws', 'AWS_CONTAINER_CREDENTIALS_RELATIVE_URI': '/v2/credentials/a41d4b48-1fc8-4990-8092-dc48b475b5ed', 'DMLC_ROLE': 'scheduler', 'PWD': '/', 'DMLC_NUM_SERVER': '1', 'AWS_EXECUTION_ENV': 'AWS_ECS_EC2'}\u001b[0m\n",
      "\u001b[31m[04/08/2019 20:46:09 INFO 139768500823872] Launching parameter server for role server\u001b[0m\n",
      "\u001b[31m[04/08/2019 20:46:09 INFO 139768500823872] {'ECS_CONTAINER_METADATA_URI': 'http://169.254.170.2/v3/de2ea553-fd40-4255-b340-29c71c909aba', 'PROTOCOL_BUFFERS_PYTHON_IMPLEMENTATION_VERSION': '2', 'PATH': '/opt/amazon/bin:/usr/local/nvidia/bin:/usr/local/sbin:/usr/local/bin:/usr/sbin:/usr/bin:/sbin:/bin:/opt/amazon/bin:/opt/amazon/bin', 'SAGEMAKER_HTTP_PORT': '8080', 'HOME': '/root', 'PYTHONUNBUFFERED': 'TRUE', 'CANONICAL_ENVROOT': '/opt/amazon', 'LD_LIBRARY_PATH': '/opt/amazon/lib/python2.7/site-packages/cv2/../../../../lib:/usr/local/nvidia/lib64:/opt/amazon/lib', 'MXNET_KVSTORE_BIGARRAY_BOUND': '400000000', 'LANG': 'en_US.utf8', 'DMLC_INTERFACE': 'ethwe', 'SHLVL': '1', 'AWS_REGION': 'us-east-1', 'NVIDIA_VISIBLE_DEVICES': 'all', 'TRAINING_JOB_NAME': 'kmeans-2019-04-08-20-43-00-902', 'PROTOCOL_BUFFERS_PYTHON_IMPLEMENTATION': 'cpp', 'ENVROOT': '/opt/amazon', 'SAGEMAKER_DATA_PATH': '/opt/ml', 'NVIDIA_DRIVER_CAPABILITIES': 'compute,utility', 'NVIDIA_REQUIRE_CUDA': 'cuda>=9.0', 'OMP_NUM_THREADS': '2', 'HOSTNAME': 'aws', 'AWS_CONTAINER_CREDENTIALS_RELATIVE_URI': '/v2/credentials/a41d4b48-1fc8-4990-8092-dc48b475b5ed', 'PWD': '/', 'AWS_EXECUTION_ENV': 'AWS_ECS_EC2'}\u001b[0m\n",
      "\u001b[31m[04/08/2019 20:46:09 INFO 139768500823872] envs={'ECS_CONTAINER_METADATA_URI': 'http://169.254.170.2/v3/de2ea553-fd40-4255-b340-29c71c909aba', 'PROTOCOL_BUFFERS_PYTHON_IMPLEMENTATION_VERSION': '2', 'DMLC_NUM_WORKER': '2', 'DMLC_PS_ROOT_PORT': '9000', 'PATH': '/opt/amazon/bin:/usr/local/nvidia/bin:/usr/local/sbin:/usr/local/bin:/usr/sbin:/usr/bin:/sbin:/bin:/opt/amazon/bin:/opt/amazon/bin', 'SAGEMAKER_HTTP_PORT': '8080', 'HOME': '/root', 'PYTHONUNBUFFERED': 'TRUE', 'CANONICAL_ENVROOT': '/opt/amazon', 'LD_LIBRARY_PATH': '/opt/amazon/lib/python2.7/site-packages/cv2/../../../../lib:/usr/local/nvidia/lib64:/opt/amazon/lib', 'MXNET_KVSTORE_BIGARRAY_BOUND': '400000000', 'LANG': 'en_US.utf8', 'DMLC_INTERFACE': 'ethwe', 'SHLVL': '1', 'DMLC_PS_ROOT_URI': '10.32.0.5', 'AWS_REGION': 'us-east-1', 'NVIDIA_VISIBLE_DEVICES': 'all', 'TRAINING_JOB_NAME': 'kmeans-2019-04-08-20-43-00-902', 'PROTOCOL_BUFFERS_PYTHON_IMPLEMENTATION': 'cpp', 'ENVROOT': '/opt/amazon', 'SAGEMAKER_DATA_PATH': '/opt/ml', 'NVIDIA_DRIVER_CAPABILITIES': 'compute,utility', 'NVIDIA_REQUIRE_CUDA': 'cuda>=9.0', 'OMP_NUM_THREADS': '2', 'HOSTNAME': 'aws', 'AWS_CONTAINER_CREDENTIALS_RELATIVE_URI': '/v2/credentials/a41d4b48-1fc8-4990-8092-dc48b475b5ed', 'DMLC_ROLE': 'server', 'PWD': '/', 'DMLC_NUM_SERVER': '1', 'AWS_EXECUTION_ENV': 'AWS_ECS_EC2'}\u001b[0m\n",
      "\u001b[31m[04/08/2019 20:46:09 INFO 139768500823872] Environment: {'ECS_CONTAINER_METADATA_URI': 'http://169.254.170.2/v3/de2ea553-fd40-4255-b340-29c71c909aba', 'PROTOCOL_BUFFERS_PYTHON_IMPLEMENTATION_VERSION': '2', 'DMLC_PS_ROOT_PORT': '9000', 'DMLC_NUM_WORKER': '2', 'SAGEMAKER_HTTP_PORT': '8080', 'PATH': '/opt/amazon/bin:/usr/local/nvidia/bin:/usr/local/sbin:/usr/local/bin:/usr/sbin:/usr/bin:/sbin:/bin:/opt/amazon/bin:/opt/amazon/bin', 'PYTHONUNBUFFERED': 'TRUE', 'CANONICAL_ENVROOT': '/opt/amazon', 'LD_LIBRARY_PATH': '/opt/amazon/lib/python2.7/site-packages/cv2/../../../../lib:/usr/local/nvidia/lib64:/opt/amazon/lib', 'MXNET_KVSTORE_BIGARRAY_BOUND': '400000000', 'LANG': 'en_US.utf8', 'DMLC_INTERFACE': 'ethwe', 'SHLVL': '1', 'DMLC_PS_ROOT_URI': '10.32.0.5', 'AWS_REGION': 'us-east-1', 'NVIDIA_VISIBLE_DEVICES': 'all', 'TRAINING_JOB_NAME': 'kmeans-2019-04-08-20-43-00-902', 'HOME': '/root', 'PROTOCOL_BUFFERS_PYTHON_IMPLEMENTATION': 'cpp', 'ENVROOT': '/opt/amazon', 'SAGEMAKER_DATA_PATH': '/opt/ml', 'NVIDIA_DRIVER_CAPABILITIES': 'compute,utility', 'NVIDIA_REQUIRE_CUDA': 'cuda>=9.0', 'OMP_NUM_THREADS': '2', 'HOSTNAME': 'aws', 'AWS_CONTAINER_CREDENTIALS_RELATIVE_URI': '/v2/credentials/a41d4b48-1fc8-4990-8092-dc48b475b5ed', 'DMLC_ROLE': 'worker', 'PWD': '/', 'DMLC_NUM_SERVER': '1', 'AWS_EXECUTION_ENV': 'AWS_ECS_EC2'}\u001b[0m\n",
      "\u001b[31mProcess 64 is a shell:scheduler.\u001b[0m\n",
      "\u001b[31mProcess 73 is a shell:server.\u001b[0m\n",
      "\u001b[31mProcess 1 is a worker.\u001b[0m\n",
      "\u001b[31m[04/08/2019 20:46:09 INFO 139768500823872] Using default worker.\u001b[0m\n",
      "\u001b[31m[04/08/2019 20:46:09 INFO 139768500823872] Loaded iterator creator application/x-recordio-protobuf for content type ('application/x-recordio-protobuf', '1.0')\u001b[0m\n",
      "\u001b[31m[04/08/2019 20:46:09 INFO 139768500823872] Create Store: dist_async\u001b[0m\n",
      "\u001b[32m[04/08/2019 20:46:10 INFO 139995574654784] Environment: {'ECS_CONTAINER_METADATA_URI': 'http://169.254.170.2/v3/cf3ff2e3-af13-4afc-82fc-5d50f070e307', 'PROTOCOL_BUFFERS_PYTHON_IMPLEMENTATION_VERSION': '2', 'DMLC_PS_ROOT_PORT': '9000', 'DMLC_NUM_WORKER': '2', 'SAGEMAKER_HTTP_PORT': '8080', 'PATH': '/opt/amazon/bin:/usr/local/nvidia/bin:/usr/local/sbin:/usr/local/bin:/usr/sbin:/usr/bin:/sbin:/bin:/opt/amazon/bin:/opt/amazon/bin', 'PYTHONUNBUFFERED': 'TRUE', 'CANONICAL_ENVROOT': '/opt/amazon', 'LD_LIBRARY_PATH': '/opt/amazon/lib/python2.7/site-packages/cv2/../../../../lib:/usr/local/nvidia/lib64:/opt/amazon/lib', 'MXNET_KVSTORE_BIGARRAY_BOUND': '400000000', 'LANG': 'en_US.utf8', 'DMLC_INTERFACE': 'ethwe', 'SHLVL': '1', 'DMLC_PS_ROOT_URI': '10.32.0.5', 'AWS_REGION': 'us-east-1', 'NVIDIA_VISIBLE_DEVICES': 'all', 'TRAINING_JOB_NAME': 'kmeans-2019-04-08-20-43-00-902', 'HOME': '/root', 'PROTOCOL_BUFFERS_PYTHON_IMPLEMENTATION': 'cpp', 'ENVROOT': '/opt/amazon', 'SAGEMAKER_DATA_PATH': '/opt/ml', 'NVIDIA_DRIVER_CAPABILITIES': 'compute,utility', 'NVIDIA_REQUIRE_CUDA': 'cuda>=9.0', 'OMP_NUM_THREADS': '2', 'HOSTNAME': 'aws', 'AWS_CONTAINER_CREDENTIALS_RELATIVE_URI': '/v2/credentials/0e9e66bd-800f-4660-8cd0-363b3946d663', 'DMLC_ROLE': 'worker', 'PWD': '/', 'DMLC_NUM_SERVER': '1', 'AWS_EXECUTION_ENV': 'AWS_ECS_EC2'}\u001b[0m\n",
      "\u001b[32mProcess 1 is a worker.\u001b[0m\n",
      "\u001b[32m[04/08/2019 20:46:10 INFO 139995574654784] Using default worker.\u001b[0m\n",
      "\u001b[32m[04/08/2019 20:46:10 INFO 139995574654784] Loaded iterator creator application/x-recordio-protobuf for content type ('application/x-recordio-protobuf', '1.0')\u001b[0m\n",
      "\u001b[32m[04/08/2019 20:46:10 INFO 139995574654784] Create Store: dist_async\u001b[0m\n",
      "\u001b[31m[04/08/2019 20:46:10 INFO 139768500823872] nvidia-smi took: 0.0252239704132 secs to identify 0 gpus\u001b[0m\n",
      "\u001b[31m[04/08/2019 20:46:10 INFO 139768500823872] Number of GPUs being used: 0\u001b[0m\n",
      "\u001b[31m[04/08/2019 20:46:11 INFO 139768500823872] Setting up with params: {u'_tuning_objective_metric': u'', u'extra_center_factor': u'auto', u'local_lloyd_init_method': u'kmeans++', u'force_dense': u'True', u'epochs': u'1', u'feature_dim': u'784', u'local_lloyd_tol': u'0.0001', u'_disable_wait_to_read': u'false', u'eval_metrics': u'[\"msd\"]', u'_num_kv_servers': u'1', u'mini_batch_size': u'5000', u'_enable_profiler': u'false', u'_num_gpus': u'auto', u'local_lloyd_num_trials': u'auto', u'_log_level': u'info', u'init_method': u'random', u'half_life_time_size': u'0', u'local_lloyd_max_iter': u'300', u'_kvstore': u'auto', u'k': u'10', u'_num_slices': u'1'}\u001b[0m\n",
      "\u001b[31m[04/08/2019 20:46:11 INFO 139768500823872] Number of GPUs being used: 0\u001b[0m\n",
      "\u001b[31m[04/08/2019 20:46:11 INFO 139768500823872] number of center slices 1\u001b[0m\n",
      "\u001b[31m#metrics {\"Metrics\": {\"Max Batches Seen Between Resets\": {\"count\": 1, \"max\": 1, \"sum\": 1.0, \"min\": 1}, \"Number of Batches Since Last Reset\": {\"count\": 1, \"max\": 1, \"sum\": 1.0, \"min\": 1}, \"Number of Records Since Last Reset\": {\"count\": 1, \"max\": 5000, \"sum\": 5000.0, \"min\": 5000}, \"Total Batches Seen\": {\"count\": 1, \"max\": 1, \"sum\": 1.0, \"min\": 1}, \"Total Records Seen\": {\"count\": 1, \"max\": 5000, \"sum\": 5000.0, \"min\": 5000}, \"Max Records Seen Between Resets\": {\"count\": 1, \"max\": 5000, \"sum\": 5000.0, \"min\": 5000}, \"Reset Count\": {\"count\": 1, \"max\": 0, \"sum\": 0.0, \"min\": 0}}, \"EndTime\": 1554756371.086054, \"Dimensions\": {\"Host\": \"algo-1\", \"Meta\": \"init_train_data_iter\", \"Operation\": \"training\", \"Algorithm\": \"AWS/KMeansWebscale\"}, \"StartTime\": 1554756371.085995}\n",
      "\u001b[0m\n",
      "\u001b[31m[2019-04-08 20:46:11.098] [tensorio] [info] epoch_stats={\"data_pipeline\": \"/opt/ml/input/data/train\", \"epoch\": 0, \"duration\": 106, \"num_examples\": 1, \"num_bytes\": 15820000}\u001b[0m\n",
      "\u001b[32m[04/08/2019 20:46:10 INFO 139995574654784] nvidia-smi took: 0.02516913414 secs to identify 0 gpus\u001b[0m\n",
      "\u001b[32m[04/08/2019 20:46:10 INFO 139995574654784] Number of GPUs being used: 0\u001b[0m\n",
      "\u001b[32m[04/08/2019 20:46:11 INFO 139995574654784] Setting up with params: {u'_tuning_objective_metric': u'', u'extra_center_factor': u'auto', u'local_lloyd_init_method': u'kmeans++', u'force_dense': u'True', u'epochs': u'1', u'feature_dim': u'784', u'local_lloyd_tol': u'0.0001', u'_disable_wait_to_read': u'false', u'eval_metrics': u'[\"msd\"]', u'_num_kv_servers': u'1', u'mini_batch_size': u'5000', u'_enable_profiler': u'false', u'_num_gpus': u'auto', u'local_lloyd_num_trials': u'auto', u'_log_level': u'info', u'init_method': u'random', u'half_life_time_size': u'0', u'local_lloyd_max_iter': u'300', u'_kvstore': u'auto', u'k': u'10', u'_num_slices': u'1'}\u001b[0m\n",
      "\u001b[32m[04/08/2019 20:46:11 INFO 139995574654784] Number of GPUs being used: 0\u001b[0m\n",
      "\u001b[32m[04/08/2019 20:46:11 INFO 139995574654784] number of center slices 1\u001b[0m\n",
      "\u001b[32m#metrics {\"Metrics\": {\"Max Batches Seen Between Resets\": {\"count\": 1, \"max\": 1, \"sum\": 1.0, \"min\": 1}, \"Number of Batches Since Last Reset\": {\"count\": 1, \"max\": 1, \"sum\": 1.0, \"min\": 1}, \"Number of Records Since Last Reset\": {\"count\": 1, \"max\": 5000, \"sum\": 5000.0, \"min\": 5000}, \"Total Batches Seen\": {\"count\": 1, \"max\": 1, \"sum\": 1.0, \"min\": 1}, \"Total Records Seen\": {\"count\": 1, \"max\": 5000, \"sum\": 5000.0, \"min\": 5000}, \"Max Records Seen Between Resets\": {\"count\": 1, \"max\": 5000, \"sum\": 5000.0, \"min\": 5000}, \"Reset Count\": {\"count\": 1, \"max\": 0, \"sum\": 0.0, \"min\": 0}}, \"EndTime\": 1554756371.083398, \"Dimensions\": {\"Host\": \"algo-2\", \"Meta\": \"init_train_data_iter\", \"Operation\": \"training\", \"Algorithm\": \"AWS/KMeansWebscale\"}, \"StartTime\": 1554756371.083346}\n",
      "\u001b[0m\n",
      "\u001b[32m[2019-04-08 20:46:11.091] [tensorio] [info] epoch_stats={\"data_pipeline\": \"/opt/ml/input/data/train\", \"epoch\": 0, \"duration\": 102, \"num_examples\": 1, \"num_bytes\": 15820000}\u001b[0m\n",
      "\u001b[32m[2019-04-08 20:46:11.420] [tensorio] [info] epoch_stats={\"data_pipeline\": \"/opt/ml/input/data/train\", \"epoch\": 1, \"duration\": 328, \"num_examples\": 5, \"num_bytes\": 79100000}\u001b[0m\n",
      "\u001b[32m[04/08/2019 20:46:11 INFO 139995574654784] processed a total of 25000 examples\u001b[0m\n",
      "\u001b[32m[04/08/2019 20:46:11 INFO 139995574654784] #progress_metric: host=algo-2, completed 100 % of epochs\u001b[0m\n",
      "\u001b[32m#metrics {\"Metrics\": {\"Max Batches Seen Between Resets\": {\"count\": 1, \"max\": 5, \"sum\": 5.0, \"min\": 5}, \"Number of Batches Since Last Reset\": {\"count\": 1, \"max\": 5, \"sum\": 5.0, \"min\": 5}, \"Number of Records Since Last Reset\": {\"count\": 1, \"max\": 25000, \"sum\": 25000.0, \"min\": 25000}, \"Total Batches Seen\": {\"count\": 1, \"max\": 6, \"sum\": 6.0, \"min\": 6}, \"Total Records Seen\": {\"count\": 1, \"max\": 30000, \"sum\": 30000.0, \"min\": 30000}, \"Max Records Seen Between Resets\": {\"count\": 1, \"max\": 25000, \"sum\": 25000.0, \"min\": 25000}, \"Reset Count\": {\"count\": 1, \"max\": 1, \"sum\": 1.0, \"min\": 1}}, \"EndTime\": 1554756371.420604, \"Dimensions\": {\"Host\": \"algo-2\", \"Meta\": \"training_data_iter\", \"Operation\": \"training\", \"Algorithm\": \"AWS/KMeansWebscale\", \"epoch\": 0}, \"StartTime\": 1554756371.09113}\n",
      "\u001b[0m\n",
      "\u001b[32m[04/08/2019 20:46:11 INFO 139995574654784] #throughput_metric: host=algo-2, train throughput=75843.7868658 records/second\u001b[0m\n",
      "\u001b[32m[04/08/2019 20:46:11 INFO 139995574654784] shrinking 100 centers into 10\u001b[0m\n",
      "\u001b[32m[04/08/2019 20:46:11 INFO 139995574654784] local kmeans attempt #0. Current mean square distance 11.792100\u001b[0m\n",
      "\u001b[32m[04/08/2019 20:46:11 INFO 139995574654784] local kmeans attempt #1. Current mean square distance 11.717380\u001b[0m\n",
      "\u001b[32m[04/08/2019 20:46:11 INFO 139995574654784] local kmeans attempt #2. Current mean square distance 10.908463\u001b[0m\n",
      "\u001b[32m[04/08/2019 20:46:11 INFO 139995574654784] local kmeans attempt #3. Current mean square distance 10.754083\u001b[0m\n",
      "\u001b[32m[04/08/2019 20:46:11 INFO 139995574654784] local kmeans attempt #4. Current mean square distance 10.990337\u001b[0m\n",
      "\u001b[32m[04/08/2019 20:46:11 INFO 139995574654784] local kmeans attempt #5. Current mean square distance 11.116698\u001b[0m\n",
      "\u001b[31m[2019-04-08 20:46:11.477] [tensorio] [info] epoch_stats={\"data_pipeline\": \"/opt/ml/input/data/train\", \"epoch\": 1, \"duration\": 378, \"num_examples\": 5, \"num_bytes\": 79100000}\u001b[0m\n",
      "\u001b[31m[04/08/2019 20:46:11 INFO 139768500823872] processed a total of 25000 examples\u001b[0m\n",
      "\u001b[31m[04/08/2019 20:46:11 INFO 139768500823872] #progress_metric: host=algo-1, completed 100 % of epochs\u001b[0m\n",
      "\u001b[31m#metrics {\"Metrics\": {\"Max Batches Seen Between Resets\": {\"count\": 1, \"max\": 5, \"sum\": 5.0, \"min\": 5}, \"Number of Batches Since Last Reset\": {\"count\": 1, \"max\": 5, \"sum\": 5.0, \"min\": 5}, \"Number of Records Since Last Reset\": {\"count\": 1, \"max\": 25000, \"sum\": 25000.0, \"min\": 25000}, \"Total Batches Seen\": {\"count\": 1, \"max\": 6, \"sum\": 6.0, \"min\": 6}, \"Total Records Seen\": {\"count\": 1, \"max\": 30000, \"sum\": 30000.0, \"min\": 30000}, \"Max Records Seen Between Resets\": {\"count\": 1, \"max\": 25000, \"sum\": 25000.0, \"min\": 25000}, \"Reset Count\": {\"count\": 1, \"max\": 1, \"sum\": 1.0, \"min\": 1}}, \"EndTime\": 1554756371.478835, \"Dimensions\": {\"Host\": \"algo-1\", \"Meta\": \"training_data_iter\", \"Operation\": \"training\", \"Algorithm\": \"AWS/KMeansWebscale\", \"epoch\": 0}, \"StartTime\": 1554756371.098751}\n",
      "\u001b[0m\n",
      "\u001b[31m[04/08/2019 20:46:11 INFO 139768500823872] #throughput_metric: host=algo-1, train throughput=65739.9994357 records/second\u001b[0m\n",
      "\u001b[31m[04/08/2019 20:46:11 INFO 139768500823872] shrinking 100 centers into 10\u001b[0m\n",
      "\u001b[31m[04/08/2019 20:46:11 INFO 139768500823872] local kmeans attempt #0. Current mean square distance 11.071731\u001b[0m\n",
      "\u001b[31m[04/08/2019 20:46:11 INFO 139768500823872] local kmeans attempt #1. Current mean square distance 11.291697\u001b[0m\n",
      "\u001b[31m[04/08/2019 20:46:11 INFO 139768500823872] local kmeans attempt #2. Current mean square distance 11.384384\u001b[0m\n",
      "\u001b[31m[04/08/2019 20:46:11 INFO 139768500823872] local kmeans attempt #3. Current mean square distance 11.727633\u001b[0m\n",
      "\u001b[31m[04/08/2019 20:46:11 INFO 139768500823872] local kmeans attempt #4. Current mean square distance 11.534341\u001b[0m\n",
      "\u001b[31m[04/08/2019 20:46:11 INFO 139768500823872] local kmeans attempt #5. Current mean square distance 11.341830\u001b[0m\n",
      "\u001b[31m[04/08/2019 20:46:11 INFO 139768500823872] local kmeans attempt #6. Current mean square distance 11.633774\u001b[0m\n",
      "\u001b[31m[04/08/2019 20:46:11 INFO 139768500823872] local kmeans attempt #7. Current mean square distance 11.392311\u001b[0m\n",
      "\u001b[31m[04/08/2019 20:46:11 INFO 139768500823872] local kmeans attempt #8. Current mean square distance 10.898628\u001b[0m\n",
      "\u001b[31m[04/08/2019 20:46:11 INFO 139768500823872] local kmeans attempt #9. Current mean square distance 11.263543\u001b[0m\n",
      "\u001b[31m[04/08/2019 20:46:11 INFO 139768500823872] finished shrinking process. Mean Square Distance = 11\u001b[0m\n",
      "\u001b[31m[04/08/2019 20:46:11 INFO 139768500823872] #quality_metric: host=algo-1, train msd <loss>=10.8986282349\u001b[0m\n",
      "\u001b[31m[04/08/2019 20:46:11 INFO 139768500823872] compute all data-center distances: point norm took: 36.2300%, (0.139839 secs)\u001b[0m\n",
      "\u001b[31m[04/08/2019 20:46:11 INFO 139768500823872] compute all data-center distances: inner product took: 19.1402%, (0.073876 secs)\u001b[0m\n",
      "\u001b[31m[04/08/2019 20:46:11 INFO 139768500823872] batch data loading with context took: 13.7349%, (0.053013 secs)\u001b[0m\n",
      "\u001b[31m[04/08/2019 20:46:11 INFO 139768500823872] gradient: cluster center took: 11.1356%, (0.042981 secs)\u001b[0m\n",
      "\u001b[31m[04/08/2019 20:46:11 INFO 139768500823872] predict compute msd took: 6.6434%, (0.025642 secs)\u001b[0m\n",
      "\u001b[31m[04/08/2019 20:46:11 INFO 139768500823872] gradient: cluster size  took: 4.1354%, (0.015961 secs)\u001b[0m\n",
      "\u001b[31m[04/08/2019 20:46:11 INFO 139768500823872] collect from kv store took: 3.4174%, (0.013190 secs)\u001b[0m\n",
      "\u001b[31m[04/08/2019 20:46:11 INFO 139768500823872] splitting centers key-value pair took: 2.3102%, (0.008917 secs)\u001b[0m\n",
      "\u001b[31m[04/08/2019 20:46:11 INFO 139768500823872] gradient: one_hot took: 1.5219%, (0.005874 secs)\u001b[0m\n",
      "\u001b[31m[04/08/2019 20:46:11 INFO 139768500823872] compute all data-center distances: center norm took: 1.0247%, (0.003955 secs)\u001b[0m\n",
      "\u001b[31m[04/08/2019 20:46:11 INFO 139768500823872] update state and report convergance took: 0.5907%, (0.002280 secs)\u001b[0m\n",
      "\u001b[31m[04/08/2019 20:46:11 INFO 139768500823872] update set-up time took: 0.0798%, (0.000308 secs)\u001b[0m\n",
      "\u001b[31m[04/08/2019 20:46:11 INFO 139768500823872] predict minus dist took: 0.0358%, (0.000138 secs)\u001b[0m\n",
      "\u001b[31m[04/08/2019 20:46:11 INFO 139768500823872] TOTAL took: 0.385974407196\u001b[0m\n",
      "\u001b[31m[04/08/2019 20:46:11 INFO 139768500823872] Number of GPUs being used: 0\u001b[0m\n",
      "\u001b[31m#metrics {\"Metrics\": {\"finalize.time\": {\"count\": 1, \"max\": 351.86195373535156, \"sum\": 351.86195373535156, \"min\": 351.86195373535156}, \"initialize.time\": {\"count\": 1, \"max\": 68.99809837341309, \"sum\": 68.99809837341309, \"min\": 68.99809837341309}, \"model.serialize.time\": {\"count\": 1, \"max\": 0.1709461212158203, \"sum\": 0.1709461212158203, \"min\": 0.1709461212158203}, \"update.time\": {\"count\": 1, \"max\": 379.73785400390625, \"sum\": 379.73785400390625, \"min\": 379.73785400390625}, \"epochs\": {\"count\": 1, \"max\": 1, \"sum\": 1.0, \"min\": 1}, \"state.serialize.time\": {\"count\": 1, \"max\": 1.4989376068115234, \"sum\": 1.4989376068115234, \"min\": 1.4989376068115234}, \"_shrink.time\": {\"count\": 1, \"max\": 349.3771553039551, \"sum\": 349.3771553039551, \"min\": 349.3771553039551}}, \"EndTime\": 1554756371.833173, \"Dimensions\": {\"Host\": \"algo-1\", \"Operation\": \"training\", \"Algorithm\": \"AWS/KMeansWebscale\"}, \"StartTime\": 1554756370.991921}\n",
      "\u001b[0m\n",
      "\u001b[31m[04/08/2019 20:46:11 INFO 139768500823872] Test data is not provided.\u001b[0m\n",
      "\u001b[31m#metrics {\"Metrics\": {\"totaltime\": {\"count\": 1, \"max\": 1954.4391632080078, \"sum\": 1954.4391632080078, \"min\": 1954.4391632080078}, \"setuptime\": {\"count\": 1, \"max\": 34.455060958862305, \"sum\": 34.455060958862305, \"min\": 34.455060958862305}}, \"EndTime\": 1554756371.837416, \"Dimensions\": {\"Host\": \"algo-1\", \"Operation\": \"training\", \"Algorithm\": \"AWS/KMeansWebscale\"}, \"StartTime\": 1554756371.833273}\n",
      "\u001b[0m\n",
      "\u001b[32m[04/08/2019 20:46:11 INFO 139995574654784] local kmeans attempt #6. Current mean square distance 11.150367\u001b[0m\n",
      "\u001b[32m[04/08/2019 20:46:11 INFO 139995574654784] local kmeans attempt #7. Current mean square distance 11.143779\u001b[0m\n",
      "\u001b[32m[04/08/2019 20:46:11 INFO 139995574654784] local kmeans attempt #8. Current mean square distance 10.818454\u001b[0m\n",
      "\u001b[32m[04/08/2019 20:46:11 INFO 139995574654784] local kmeans attempt #9. Current mean square distance 11.498452\u001b[0m\n",
      "\u001b[32m[04/08/2019 20:46:11 INFO 139995574654784] finished shrinking process. Mean Square Distance = 11\u001b[0m\n",
      "\u001b[32m[04/08/2019 20:46:11 INFO 139995574654784] #quality_metric: host=algo-2, train msd <loss>=10.7540826797\u001b[0m\n",
      "\u001b[32m[04/08/2019 20:46:11 INFO 139995574654784] compute all data-center distances: point norm took: 35.8234%, (0.119886 secs)\u001b[0m\n",
      "\u001b[32m[04/08/2019 20:46:11 INFO 139995574654784] compute all data-center distances: inner product took: 17.6949%, (0.059217 secs)\u001b[0m\n",
      "\u001b[32m[04/08/2019 20:46:11 INFO 139995574654784] batch data loading with context took: 13.6160%, (0.045567 secs)\u001b[0m\n",
      "\u001b[32m[04/08/2019 20:46:11 INFO 139995574654784] gradient: cluster center took: 10.7606%, (0.036011 secs)\u001b[0m\n",
      "\u001b[32m[04/08/2019 20:46:11 INFO 139995574654784] collect from kv store took: 7.0643%, (0.023641 secs)\u001b[0m\n",
      "\u001b[32m[04/08/2019 20:46:11 INFO 139995574654784] predict compute msd took: 6.3713%, (0.021322 secs)\u001b[0m\n",
      "\u001b[32m[04/08/2019 20:46:11 INFO 139995574654784] gradient: cluster size  took: 3.5968%, (0.012037 secs)\u001b[0m\n",
      "\u001b[32m[04/08/2019 20:46:11 INFO 139995574654784] splitting centers key-value pair took: 2.2850%, (0.007647 secs)\u001b[0m\n",
      "\u001b[32m[04/08/2019 20:46:11 INFO 139995574654784] gradient: one_hot took: 1.1829%, (0.003959 secs)\u001b[0m\n",
      "\u001b[32m[04/08/2019 20:46:11 INFO 139995574654784] compute all data-center distances: center norm took: 1.0139%, (0.003393 secs)\u001b[0m\n",
      "\u001b[32m[04/08/2019 20:46:11 INFO 139995574654784] update state and report convergance took: 0.4634%, (0.001551 secs)\u001b[0m\n",
      "\u001b[32m[04/08/2019 20:46:11 INFO 139995574654784] update set-up time took: 0.0834%, (0.000279 secs)\u001b[0m\n",
      "\u001b[32m[04/08/2019 20:46:11 INFO 139995574654784] predict minus dist took: 0.0440%, (0.000147 secs)\u001b[0m\n",
      "\u001b[32m[04/08/2019 20:46:11 INFO 139995574654784] TOTAL took: 0.33465719223\u001b[0m\n",
      "\u001b[32m[04/08/2019 20:46:11 INFO 139995574654784] Number of GPUs being used: 0\u001b[0m\n",
      "\u001b[32m[04/08/2019 20:46:11 INFO 139995574654784] No model is serialized on a non-master node\u001b[0m\n",
      "\u001b[32m#metrics {\"Metrics\": {\"finalize.time\": {\"count\": 1, \"max\": 360.89205741882324, \"sum\": 360.89205741882324, \"min\": 360.89205741882324}, \"initialize.time\": {\"count\": 1, \"max\": 70.10507583618164, \"sum\": 70.10507583618164, \"min\": 70.10507583618164}, \"model.serialize.time\": {\"count\": 1, \"max\": 0.09417533874511719, \"sum\": 0.09417533874511719, \"min\": 0.09417533874511719}, \"update.time\": {\"count\": 1, \"max\": 329.2520046234131, \"sum\": 329.2520046234131, \"min\": 329.2520046234131}, \"epochs\": {\"count\": 1, \"max\": 1, \"sum\": 1.0, \"min\": 1}, \"state.serialize.time\": {\"count\": 1, \"max\": 1.6031265258789062, \"sum\": 1.6031265258789062, \"min\": 1.6031265258789062}, \"_shrink.time\": {\"count\": 1, \"max\": 357.1140766143799, \"sum\": 357.1140766143799, \"min\": 357.1140766143799}}, \"EndTime\": 1554756371.839947, \"Dimensions\": {\"Host\": \"algo-2\", \"Operation\": \"training\", \"Algorithm\": \"AWS/KMeansWebscale\"}, \"StartTime\": 1554756370.988633}\n",
      "\u001b[0m\n",
      "\u001b[32m[04/08/2019 20:46:11 INFO 139995574654784] Test data is not provided.\u001b[0m\n",
      "\u001b[32m#metrics {\"Metrics\": {\"totaltime\": {\"count\": 1, \"max\": 4359.539985656738, \"sum\": 4359.539985656738, \"min\": 4359.539985656738}, \"setuptime\": {\"count\": 1, \"max\": 2522.2578048706055, \"sum\": 2522.2578048706055, \"min\": 2522.2578048706055}}, \"EndTime\": 1554756371.842258, \"Dimensions\": {\"Host\": \"algo-2\", \"Operation\": \"training\", \"Algorithm\": \"AWS/KMeansWebscale\"}, \"StartTime\": 1554756371.840081}\n",
      "\u001b[0m\n"
     ]
    },
    {
     "name": "stdout",
     "output_type": "stream",
     "text": [
      "\n",
      "2019-04-08 20:46:18 Uploading - Uploading generated training model\n",
      "2019-04-08 20:46:18 Completed - Training job completed\n",
      "Billable seconds: 57\n",
      "CPU times: user 9.51 s, sys: 454 ms, total: 9.97 s\n",
      "Wall time: 3min 56s\n"
     ]
    }
   ],
   "source": [
    "%%time\n",
    "\n",
    "kmeans.fit(kmeans.record_set(train_set[0]))"
   ]
  },
  {
   "cell_type": "markdown",
   "metadata": {},
   "source": [
    "## Set up hosting for the model\n",
    "Now, we can deploy the model we just trained behind a real-time hosted endpoint.  This next step can take, on average, 7 to 11 minutes to complete."
   ]
  },
  {
   "cell_type": "code",
   "execution_count": 7,
   "metadata": {},
   "outputs": [
    {
     "name": "stderr",
     "output_type": "stream",
     "text": [
      "INFO:sagemaker:Creating model with name: kmeans-2019-04-08-20-46-44-000\n",
      "INFO:sagemaker:Creating endpoint with name kmeans-2019-04-08-20-43-00-902\n"
     ]
    },
    {
     "name": "stdout",
     "output_type": "stream",
     "text": [
      "---------------------------------------------------------------------------!CPU times: user 386 ms, sys: 31.3 ms, total: 417 ms\n",
      "Wall time: 6min 20s\n"
     ]
    }
   ],
   "source": [
    "%%time\n",
    "\n",
    "kmeans_predictor = kmeans.deploy(initial_instance_count=1,\n",
    "                                 instance_type='ml.m4.xlarge')"
   ]
  },
  {
   "cell_type": "markdown",
   "metadata": {},
   "source": [
    "## Validate the model for use\n",
    "Finally, we'll validate the model for use. Let's generate a classification for a single observation from the trained model using the endpoint we just created."
   ]
  },
  {
   "cell_type": "code",
   "execution_count": 8,
   "metadata": {},
   "outputs": [
    {
     "name": "stdout",
     "output_type": "stream",
     "text": [
      "[label {\n",
      "  key: \"closest_cluster\"\n",
      "  value {\n",
      "    float32_tensor {\n",
      "      values: 9.0\n",
      "    }\n",
      "  }\n",
      "}\n",
      "label {\n",
      "  key: \"distance_to_cluster\"\n",
      "  value {\n",
      "    float32_tensor {\n",
      "      values: 7.242814540863037\n",
      "    }\n",
      "  }\n",
      "}\n",
      "]\n"
     ]
    }
   ],
   "source": [
    "result = kmeans_predictor.predict(train_set[0][30:31])\n",
    "print(result)"
   ]
  },
  {
   "cell_type": "markdown",
   "metadata": {},
   "source": [
    "OK, a single prediction works.\n",
    "\n",
    "Let's do a whole batch and see how well the clustering works."
   ]
  },
  {
   "cell_type": "code",
   "execution_count": 9,
   "metadata": {},
   "outputs": [
    {
     "name": "stdout",
     "output_type": "stream",
     "text": [
      "CPU times: user 29.9 ms, sys: 39 µs, total: 29.9 ms\n",
      "Wall time: 87 ms\n"
     ]
    }
   ],
   "source": [
    "%%time \n",
    "\n",
    "result = kmeans_predictor.predict(valid_set[0][0:100])\n",
    "clusters = [r.label['closest_cluster'].float32_tensor.values[0] for r in result]"
   ]
  },
  {
   "cell_type": "code",
   "execution_count": 10,
   "metadata": {},
   "outputs": [
    {
     "name": "stdout",
     "output_type": "stream",
     "text": [
      "\n",
      "\n",
      "\n",
      "Cluster 0:\n"
     ]
    },
    {
     "data": {
      "image/png": "[encoded data removed]",
      "text/plain": [
       "<Figure size 360x72 with 5 Axes>"
      ]
     },
     "metadata": {},
     "output_type": "display_data"
    },
    {
     "name": "stdout",
     "output_type": "stream",
     "text": [
      "\n",
      "\n",
      "\n",
      "Cluster 1:\n"
     ]
    },
    {
     "data": {
      "image/png": "[encoded data removed]",
      "text/plain": [
       "<Figure size 360x288 with 20 Axes>"
      ]
     },
     "metadata": {},
     "output_type": "display_data"
    },
    {
     "name": "stdout",
     "output_type": "stream",
     "text": [
      "\n",
      "\n",
      "\n",
      "Cluster 2:\n"
     ]
    },
    {
     "data": {
      "image/png": "[encoded data removed]",
      "text/plain": [
       "<Figure size 360x216 with 15 Axes>"
      ]
     },
     "metadata": {},
     "output_type": "display_data"
    },
    {
     "name": "stdout",
     "output_type": "stream",
     "text": [
      "\n",
      "\n",
      "\n",
      "Cluster 3:\n"
     ]
    },
    {
     "data": {
      "image/png": "[encoded data removed]",
      "text/plain": [
       "<Figure size 360x216 with 15 Axes>"
      ]
     },
     "metadata": {},
     "output_type": "display_data"
    },
    {
     "name": "stdout",
     "output_type": "stream",
     "text": [
      "\n",
      "\n",
      "\n",
      "Cluster 4:\n"
     ]
    },
    {
     "data": {
      "image/png": "[encoded data removed]",
      "text/plain": [
       "<Figure size 360x72 with 5 Axes>"
      ]
     },
     "metadata": {},
     "output_type": "display_data"
    },
    {
     "name": "stdout",
     "output_type": "stream",
     "text": [
      "\n",
      "\n",
      "\n",
      "Cluster 5:\n"
     ]
    },
    {
     "data": {
      "image/png": "[encoded data removed]",
      "text/plain": [
       "<Figure size 360x144 with 10 Axes>"
      ]
     },
     "metadata": {},
     "output_type": "display_data"
    },
    {
     "name": "stdout",
     "output_type": "stream",
     "text": [
      "\n",
      "\n",
      "\n",
      "Cluster 6:\n"
     ]
    },
    {
     "data": {
      "image/png": "[encoded data removed]",
      "text/plain": [
       "<Figure size 360x72 with 5 Axes>"
      ]
     },
     "metadata": {},
     "output_type": "display_data"
    },
    {
     "name": "stdout",
     "output_type": "stream",
     "text": [
      "\n",
      "\n",
      "\n",
      "Cluster 7:\n"
     ]
    },
    {
     "data": {
      "image/png": "[encoded data removed]",
      "text/plain": [
       "<Figure size 360x216 with 15 Axes>"
      ]
     },
     "metadata": {},
     "output_type": "display_data"
    },
    {
     "name": "stdout",
     "output_type": "stream",
     "text": [
      "\n",
      "\n",
      "\n",
      "Cluster 8:\n"
     ]
    },
    {
     "data": {
      "image/png": "[encoded data removed]",
      "text/plain": [
       "<Figure size 360x144 with 10 Axes>"
      ]
     },
     "metadata": {},
     "output_type": "display_data"
    },
    {
     "name": "stdout",
     "output_type": "stream",
     "text": [
      "\n",
      "\n",
      "\n",
      "Cluster 9:\n"
     ]
    },
    {
     "data": {
      "image/png": "[encoded data removed]",
      "text/plain": [
       "<Figure size 360x216 with 15 Axes>"
      ]
     },
     "metadata": {},
     "output_type": "display_data"
    }
   ],
   "source": [
    "for cluster in range(10):\n",
    "    print('\\n\\n\\nCluster {}:'.format(int(cluster)))\n",
    "    digits = [ img for l, img in zip(clusters, valid_set[0]) if int(l) == cluster ]\n",
    "    height=((len(digits)-1)//5)+1\n",
    "    width=5\n",
    "    plt.rcParams[\"figure.figsize\"] = (width,height)\n",
    "    _, subplots = plt.subplots(height, width)\n",
    "    subplots=numpy.ndarray.flatten(subplots)\n",
    "    for subplot, image in zip(subplots, digits):\n",
    "        show_digit(image, subplot=subplot)\n",
    "    for subplot in subplots[len(digits):]:\n",
    "        subplot.axis('off')\n",
    "\n",
    "    plt.show()"
   ]
  },
  {
   "cell_type": "markdown",
   "metadata": {},
   "source": [
    "### The bottom line\n",
    "\n",
    "K-Means clustering is not the best algorithm for image analysis problems, but we do see pretty reasonable clusters being built."
   ]
  },
  {
   "cell_type": "markdown",
   "metadata": {},
   "source": [
    "### (Optional) Delete the Endpoint\n",
    "If you're ready to be done with this notebook, make sure run the cell below.  This will remove the hosted endpoint you created and avoid any charges from a stray instance being left on."
   ]
  },
  {
   "cell_type": "code",
   "execution_count": 11,
   "metadata": {},
   "outputs": [
    {
     "name": "stdout",
     "output_type": "stream",
     "text": [
      "kmeans-2019-04-08-20-43-00-902\n"
     ]
    }
   ],
   "source": [
    "print(kmeans_predictor.endpoint)"
   ]
  },
  {
   "cell_type": "code",
   "execution_count": 12,
   "metadata": {},
   "outputs": [
    {
     "name": "stderr",
     "output_type": "stream",
     "text": [
      "INFO:sagemaker:Deleting endpoint with name: kmeans-2019-04-08-20-43-00-902\n"
     ]
    }
   ],
   "source": [
    "import sagemaker\n",
    "sagemaker.Session().delete_endpoint(kmeans_predictor.endpoint)"
   ]
  }
 ],
 "metadata": {
  "kernelspec": {
   "display_name": "Python 3",
   "language": "python",
   "name": "python3"
  },
  "language_info": {
   "codemirror_mode": {
    "name": "ipython",
    "version": 3
   },
   "file_extension": ".py",
   "mimetype": "text/x-python",
   "name": "python",
   "nbconvert_exporter": "python",
   "pygments_lexer": "ipython3",
   "version": "3.6.6"
  },
  "notice": "Copyright 2017 Amazon.com, Inc. or its affiliates. All Rights Reserved.  Licensed under the Apache License, Version 2.0 (the \"License\"). You may not use this file except in compliance with the License. A copy of the License is located at http://aws.amazon.com/apache2.0/ or in the \"license\" file accompanying this file. This file is distributed on an \"AS IS\" BASIS, WITHOUT WARRANTIES OR CONDITIONS OF ANY KIND, either express or implied. See the License for the specific language governing permissions and limitations under the License."
 },
 "nbformat": 4,
 "nbformat_minor": 2
}
