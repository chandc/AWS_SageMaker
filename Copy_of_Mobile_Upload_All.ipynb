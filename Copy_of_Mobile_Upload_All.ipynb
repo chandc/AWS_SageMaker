{
  "nbformat": 4,
  "nbformat_minor": 0,
  "metadata": {
    "kernelspec": {
      "display_name": "Python 3",
      "language": "python",
      "name": "python3"
    },
    "language_info": {
      "codemirror_mode": {
        "name": "ipython",
        "version": 3
      },
      "file_extension": ".py",
      "mimetype": "text/x-python",
      "name": "python",
      "nbconvert_exporter": "python",
      "pygments_lexer": "ipython3",
      "version": "3.7.4"
    },
    "colab": {
      "name": "Copy of Mobile_Upload-All.ipynb",
      "provenance": [],
      "collapsed_sections": [],
      "include_colab_link": true
    }
  },
  "cells": [
    {
      "cell_type": "markdown",
      "metadata": {
        "id": "view-in-github",
        "colab_type": "text"
      },
      "source": [
        "<a href=\"https://colab.research.google.com/github/chandc/AWS_SageMaker/blob/master/Copy_of_Mobile_Upload_All.ipynb\" target=\"_parent\"><img src=\"https://colab.research.google.com/assets/colab-badge.svg\" alt=\"Open In Colab\"/></a>"
      ]
    },
    {
      "cell_type": "code",
      "metadata": {
        "id": "F27Zni3NxzM2",
        "colab_type": "code",
        "outputId": "fd749ae6-2e2c-4017-95c0-afa139caa8d5",
        "colab": {
          "base_uri": "https://localhost:8080/",
          "height": 34
        }
      },
      "source": [
        "%config IPCompleter.greedy=True\n",
        "!python --version"
      ],
      "execution_count": 1,
      "outputs": [
        {
          "output_type": "stream",
          "text": [
            "Python 3.6.8\n"
          ],
          "name": "stdout"
        }
      ]
    },
    {
      "cell_type": "code",
      "metadata": {
        "id": "hBKMdHqiyqm0",
        "colab_type": "code",
        "outputId": "a325ec63-da52-4154-8d03-0047688a2a81",
        "colab": {
          "resources": {
            "http://localhost:8080/nbextensions/google.colab/files.js": {
              "data": "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",
              "ok": true,
              "headers": [
                [
                  "content-type",
                  "application/javascript"
                ]
              ],
              "status": 200,
              "status_text": ""
            }
          },
          "base_uri": "https://localhost:8080/",
          "height": 74
        }
      },
      "source": [
        "from google.colab import  files\n",
        "uploaded = files.upload()"
      ],
      "execution_count": 2,
      "outputs": [
        {
          "output_type": "display_data",
          "data": {
            "text/html": [
              "\n",
              "     <input type=\"file\" id=\"files-96a7356d-9ea5-480c-bcf5-b24406da849e\" name=\"files[]\" multiple disabled />\n",
              "     <output id=\"result-96a7356d-9ea5-480c-bcf5-b24406da849e\">\n",
              "      Upload widget is only available when the cell has been executed in the\n",
              "      current browser session. Please rerun this cell to enable.\n",
              "      </output>\n",
              "      <script src=\"/nbextensions/google.colab/files.js\"></script> "
            ],
            "text/plain": [
              "<IPython.core.display.HTML object>"
            ]
          },
          "metadata": {
            "tags": []
          }
        },
        {
          "output_type": "stream",
          "text": [
            "Saving Validations and Submissions as of 11012019 4_37_PM.csv to Validations and Submissions as of 11012019 4_37_PM (1).csv\n"
          ],
          "name": "stdout"
        }
      ]
    },
    {
      "cell_type": "code",
      "metadata": {
        "id": "JE6-4Z6PxzM9",
        "colab_type": "code",
        "outputId": "e52c2459-fab6-4eec-e37c-7812bce052ac",
        "colab": {
          "base_uri": "https://localhost:8080/",
          "height": 85
        }
      },
      "source": [
        "import matplotlib.pyplot as plt\n",
        "import pandas as pd\n",
        "import io\n",
        "%matplotlib inline\n",
        "\n",
        "!pwd\n",
        "!ls"
      ],
      "execution_count": 3,
      "outputs": [
        {
          "output_type": "stream",
          "text": [
            "/content\n",
            " sample_data\n",
            "'Validations and Submissions as of 11012019 4_37_PM (1).csv'\n",
            "'Validations and Submissions as of 11012019 4_37_PM.csv'\n"
          ],
          "name": "stdout"
        }
      ]
    },
    {
      "cell_type": "code",
      "metadata": {
        "id": "2BDxGKo8xzNA",
        "colab_type": "code",
        "colab": {}
      },
      "source": [
        "df = pd.read_csv(io.BytesIO(uploaded['Validations and Submissions as of 11012019 4_37_PM.csv']), index_col=None)"
      ],
      "execution_count": 0,
      "outputs": []
    },
    {
      "cell_type": "code",
      "metadata": {
        "id": "_Jfnev0FxzND",
        "colab_type": "code",
        "outputId": "88f11b15-cf71-44dd-90f0-7b4833c8622f",
        "colab": {
          "base_uri": "https://localhost:8080/",
          "height": 111
        }
      },
      "source": [
        "df.head(2)"
      ],
      "execution_count": 5,
      "outputs": [
        {
          "output_type": "execute_result",
          "data": {
            "text/html": [
              "<div>\n",
              "<style scoped>\n",
              "    .dataframe tbody tr th:only-of-type {\n",
              "        vertical-align: middle;\n",
              "    }\n",
              "\n",
              "    .dataframe tbody tr th {\n",
              "        vertical-align: top;\n",
              "    }\n",
              "\n",
              "    .dataframe thead th {\n",
              "        text-align: right;\n",
              "    }\n",
              "</style>\n",
              "<table border=\"1\" class=\"dataframe\">\n",
              "  <thead>\n",
              "    <tr style=\"text-align: right;\">\n",
              "      <th></th>\n",
              "      <th>MOBILE_APP_REQUEST_ID</th>\n",
              "      <th>INSERT_TS</th>\n",
              "      <th>RESPONSE_STATUS_ID</th>\n",
              "      <th>DEVICE</th>\n",
              "      <th>DEVICE_OS</th>\n",
              "      <th>RESPONSE_STATUS_NAME</th>\n",
              "      <th>MOBILE_SUBMISSION_ID</th>\n",
              "      <th>Size</th>\n",
              "      <th>Page Count</th>\n",
              "      <th>INSERT_TS.1</th>\n",
              "      <th>LAST_UPDATE_TS</th>\n",
              "      <th>CLIENT_VERSION</th>\n",
              "    </tr>\n",
              "  </thead>\n",
              "  <tbody>\n",
              "    <tr>\n",
              "      <th>0</th>\n",
              "      <td>338</td>\n",
              "      <td>2019-10-28 02:02:27</td>\n",
              "      <td>300100</td>\n",
              "      <td>iPhone 6s Plus</td>\n",
              "      <td>13.1.3</td>\n",
              "      <td>Successful validation.</td>\n",
              "      <td>NaN</td>\n",
              "      <td>NaN</td>\n",
              "      <td>NaN</td>\n",
              "      <td>2019-10-28 02:02:27</td>\n",
              "      <td>2019-10-28 02:02:29</td>\n",
              "      <td>1.0.201910230000.2</td>\n",
              "    </tr>\n",
              "    <tr>\n",
              "      <th>1</th>\n",
              "      <td>343</td>\n",
              "      <td>2019-10-28 07:25:18</td>\n",
              "      <td>300100</td>\n",
              "      <td>SM-N960U1</td>\n",
              "      <td>28</td>\n",
              "      <td>Successful validation.</td>\n",
              "      <td>NaN</td>\n",
              "      <td>NaN</td>\n",
              "      <td>NaN</td>\n",
              "      <td>2019-10-28 07:25:18</td>\n",
              "      <td>2019-10-28 07:25:21</td>\n",
              "      <td>1.0</td>\n",
              "    </tr>\n",
              "  </tbody>\n",
              "</table>\n",
              "</div>"
            ],
            "text/plain": [
              "   MOBILE_APP_REQUEST_ID  ...      CLIENT_VERSION\n",
              "0                    338  ...  1.0.201910230000.2\n",
              "1                    343  ...                 1.0\n",
              "\n",
              "[2 rows x 12 columns]"
            ]
          },
          "metadata": {
            "tags": []
          },
          "execution_count": 5
        }
      ]
    },
    {
      "cell_type": "code",
      "metadata": {
        "id": "3zXLTx9FxzNI",
        "colab_type": "code",
        "outputId": "e80e85ec-94be-4eae-f3e8-e61cc8a62387",
        "colab": {
          "base_uri": "https://localhost:8080/",
          "height": 34
        }
      },
      "source": [
        "df.shape"
      ],
      "execution_count": 6,
      "outputs": [
        {
          "output_type": "execute_result",
          "data": {
            "text/plain": [
              "(4433, 12)"
            ]
          },
          "metadata": {
            "tags": []
          },
          "execution_count": 6
        }
      ]
    },
    {
      "cell_type": "code",
      "metadata": {
        "id": "WJE786eCxzNM",
        "colab_type": "code",
        "outputId": "0c542578-7768-4d51-bd5b-ef26348c34e8",
        "colab": {
          "base_uri": "https://localhost:8080/",
          "height": 238
        }
      },
      "source": [
        "df.dtypes"
      ],
      "execution_count": 7,
      "outputs": [
        {
          "output_type": "execute_result",
          "data": {
            "text/plain": [
              "MOBILE_APP_REQUEST_ID     int64\n",
              "INSERT_TS                object\n",
              "RESPONSE_STATUS_ID        int64\n",
              "DEVICE                   object\n",
              "DEVICE_OS                object\n",
              "RESPONSE_STATUS_NAME     object\n",
              "MOBILE_SUBMISSION_ID     object\n",
              "Size                     object\n",
              "Page Count               object\n",
              "INSERT_TS.1              object\n",
              "LAST_UPDATE_TS           object\n",
              "CLIENT_VERSION           object\n",
              "dtype: object"
            ]
          },
          "metadata": {
            "tags": []
          },
          "execution_count": 7
        }
      ]
    },
    {
      "cell_type": "code",
      "metadata": {
        "id": "iCVZn4bFxzNQ",
        "colab_type": "code",
        "colab": {}
      },
      "source": [
        "# convert INSERT_TS, INSERT_TS.1 and LAST_UPDATE_TS to datetime\n",
        "df['INSERT_TS'] = pd.to_datetime(df['INSERT_TS'])\n",
        "df['INSERT_TS.1'] = pd.to_datetime(df['INSERT_TS.1'])\n",
        "df['LAST_UPDATE_TS'] = pd.to_datetime(df['LAST_UPDATE_TS'])"
      ],
      "execution_count": 0,
      "outputs": []
    },
    {
      "cell_type": "code",
      "metadata": {
        "id": "hq3uqUBHxzNT",
        "colab_type": "code",
        "outputId": "f5748592-839b-432a-ed51-c4e52cca0075",
        "colab": {
          "base_uri": "https://localhost:8080/",
          "height": 238
        }
      },
      "source": [
        "df.dtypes"
      ],
      "execution_count": 9,
      "outputs": [
        {
          "output_type": "execute_result",
          "data": {
            "text/plain": [
              "MOBILE_APP_REQUEST_ID             int64\n",
              "INSERT_TS                datetime64[ns]\n",
              "RESPONSE_STATUS_ID                int64\n",
              "DEVICE                           object\n",
              "DEVICE_OS                        object\n",
              "RESPONSE_STATUS_NAME             object\n",
              "MOBILE_SUBMISSION_ID             object\n",
              "Size                             object\n",
              "Page Count                       object\n",
              "INSERT_TS.1              datetime64[ns]\n",
              "LAST_UPDATE_TS           datetime64[ns]\n",
              "CLIENT_VERSION                   object\n",
              "dtype: object"
            ]
          },
          "metadata": {
            "tags": []
          },
          "execution_count": 9
        }
      ]
    },
    {
      "cell_type": "code",
      "metadata": {
        "id": "8KtSI6H5xzNW",
        "colab_type": "code",
        "outputId": "b8fb3164-7bad-488b-e438-6043dd9f0391",
        "colab": {
          "base_uri": "https://localhost:8080/",
          "height": 221
        }
      },
      "source": [
        "df['INSERT_TS'].dt.time"
      ],
      "execution_count": 10,
      "outputs": [
        {
          "output_type": "execute_result",
          "data": {
            "text/plain": [
              "0       02:02:27\n",
              "1       07:25:18\n",
              "2       08:05:07\n",
              "3       08:32:42\n",
              "4       08:33:43\n",
              "          ...   \n",
              "4428    16:31:33\n",
              "4429    16:31:45\n",
              "4430    16:32:22\n",
              "4431    16:32:42\n",
              "4432    16:33:05\n",
              "Name: INSERT_TS, Length: 4433, dtype: object"
            ]
          },
          "metadata": {
            "tags": []
          },
          "execution_count": 10
        }
      ]
    },
    {
      "cell_type": "code",
      "metadata": {
        "id": "qOjllPh6xzNb",
        "colab_type": "code",
        "outputId": "1962980d-8275-4aa4-821f-5b02de03002d",
        "colab": {
          "base_uri": "https://localhost:8080/",
          "height": 111
        }
      },
      "source": [
        "df.tail(2)"
      ],
      "execution_count": 11,
      "outputs": [
        {
          "output_type": "execute_result",
          "data": {
            "text/html": [
              "<div>\n",
              "<style scoped>\n",
              "    .dataframe tbody tr th:only-of-type {\n",
              "        vertical-align: middle;\n",
              "    }\n",
              "\n",
              "    .dataframe tbody tr th {\n",
              "        vertical-align: top;\n",
              "    }\n",
              "\n",
              "    .dataframe thead th {\n",
              "        text-align: right;\n",
              "    }\n",
              "</style>\n",
              "<table border=\"1\" class=\"dataframe\">\n",
              "  <thead>\n",
              "    <tr style=\"text-align: right;\">\n",
              "      <th></th>\n",
              "      <th>MOBILE_APP_REQUEST_ID</th>\n",
              "      <th>INSERT_TS</th>\n",
              "      <th>RESPONSE_STATUS_ID</th>\n",
              "      <th>DEVICE</th>\n",
              "      <th>DEVICE_OS</th>\n",
              "      <th>RESPONSE_STATUS_NAME</th>\n",
              "      <th>MOBILE_SUBMISSION_ID</th>\n",
              "      <th>Size</th>\n",
              "      <th>Page Count</th>\n",
              "      <th>INSERT_TS.1</th>\n",
              "      <th>LAST_UPDATE_TS</th>\n",
              "      <th>CLIENT_VERSION</th>\n",
              "    </tr>\n",
              "  </thead>\n",
              "  <tbody>\n",
              "    <tr>\n",
              "      <th>4431</th>\n",
              "      <td>10894</td>\n",
              "      <td>2019-11-01 16:32:42</td>\n",
              "      <td>300100</td>\n",
              "      <td>iPhone 8 Plus</td>\n",
              "      <td>13.1.3</td>\n",
              "      <td>Successful validation.</td>\n",
              "      <td>NaN</td>\n",
              "      <td>NaN</td>\n",
              "      <td>NaN</td>\n",
              "      <td>2019-11-01 16:32:42</td>\n",
              "      <td>2019-11-01 16:32:42</td>\n",
              "      <td>1.0.201910230000.2</td>\n",
              "    </tr>\n",
              "    <tr>\n",
              "      <th>4432</th>\n",
              "      <td>10897</td>\n",
              "      <td>2019-11-01 16:33:05</td>\n",
              "      <td>300100</td>\n",
              "      <td>iPhone 8</td>\n",
              "      <td>13.1.2</td>\n",
              "      <td>Successful validation.</td>\n",
              "      <td>NaN</td>\n",
              "      <td>NaN</td>\n",
              "      <td>NaN</td>\n",
              "      <td>2019-11-01 16:33:05</td>\n",
              "      <td>2019-11-01 16:33:07</td>\n",
              "      <td>1.0.201910230000.2</td>\n",
              "    </tr>\n",
              "  </tbody>\n",
              "</table>\n",
              "</div>"
            ],
            "text/plain": [
              "      MOBILE_APP_REQUEST_ID  ...      CLIENT_VERSION\n",
              "4431                  10894  ...  1.0.201910230000.2\n",
              "4432                  10897  ...  1.0.201910230000.2\n",
              "\n",
              "[2 rows x 12 columns]"
            ]
          },
          "metadata": {
            "tags": []
          },
          "execution_count": 11
        }
      ]
    },
    {
      "cell_type": "code",
      "metadata": {
        "id": "wxnYBIoYxzNe",
        "colab_type": "code",
        "outputId": "88c7e24f-cd08-4e38-db0e-13d9643cd688",
        "colab": {
          "base_uri": "https://localhost:8080/",
          "height": 204
        }
      },
      "source": [
        "df = df.drop(columns=[ \"MOBILE_APP_REQUEST_ID\", \"INSERT_TS.1\", \"MOBILE_SUBMISSION_ID\"])\n",
        "df.head()"
      ],
      "execution_count": 12,
      "outputs": [
        {
          "output_type": "execute_result",
          "data": {
            "text/html": [
              "<div>\n",
              "<style scoped>\n",
              "    .dataframe tbody tr th:only-of-type {\n",
              "        vertical-align: middle;\n",
              "    }\n",
              "\n",
              "    .dataframe tbody tr th {\n",
              "        vertical-align: top;\n",
              "    }\n",
              "\n",
              "    .dataframe thead th {\n",
              "        text-align: right;\n",
              "    }\n",
              "</style>\n",
              "<table border=\"1\" class=\"dataframe\">\n",
              "  <thead>\n",
              "    <tr style=\"text-align: right;\">\n",
              "      <th></th>\n",
              "      <th>INSERT_TS</th>\n",
              "      <th>RESPONSE_STATUS_ID</th>\n",
              "      <th>DEVICE</th>\n",
              "      <th>DEVICE_OS</th>\n",
              "      <th>RESPONSE_STATUS_NAME</th>\n",
              "      <th>Size</th>\n",
              "      <th>Page Count</th>\n",
              "      <th>LAST_UPDATE_TS</th>\n",
              "      <th>CLIENT_VERSION</th>\n",
              "    </tr>\n",
              "  </thead>\n",
              "  <tbody>\n",
              "    <tr>\n",
              "      <th>0</th>\n",
              "      <td>2019-10-28 02:02:27</td>\n",
              "      <td>300100</td>\n",
              "      <td>iPhone 6s Plus</td>\n",
              "      <td>13.1.3</td>\n",
              "      <td>Successful validation.</td>\n",
              "      <td>NaN</td>\n",
              "      <td>NaN</td>\n",
              "      <td>2019-10-28 02:02:29</td>\n",
              "      <td>1.0.201910230000.2</td>\n",
              "    </tr>\n",
              "    <tr>\n",
              "      <th>1</th>\n",
              "      <td>2019-10-28 07:25:18</td>\n",
              "      <td>300100</td>\n",
              "      <td>SM-N960U1</td>\n",
              "      <td>28</td>\n",
              "      <td>Successful validation.</td>\n",
              "      <td>NaN</td>\n",
              "      <td>NaN</td>\n",
              "      <td>2019-10-28 07:25:21</td>\n",
              "      <td>1.0</td>\n",
              "    </tr>\n",
              "    <tr>\n",
              "      <th>2</th>\n",
              "      <td>2019-10-28 08:05:07</td>\n",
              "      <td>300100</td>\n",
              "      <td>SM-G960U</td>\n",
              "      <td>28</td>\n",
              "      <td>Successful validation.</td>\n",
              "      <td>NaN</td>\n",
              "      <td>NaN</td>\n",
              "      <td>2019-10-28 08:05:12</td>\n",
              "      <td>1.0</td>\n",
              "    </tr>\n",
              "    <tr>\n",
              "      <th>3</th>\n",
              "      <td>2019-10-28 08:32:42</td>\n",
              "      <td>300100</td>\n",
              "      <td>SM-G960U</td>\n",
              "      <td>28</td>\n",
              "      <td>Successful validation.</td>\n",
              "      <td>NaN</td>\n",
              "      <td>NaN</td>\n",
              "      <td>2019-10-28 08:32:46</td>\n",
              "      <td>1.0</td>\n",
              "    </tr>\n",
              "    <tr>\n",
              "      <th>4</th>\n",
              "      <td>2019-10-28 08:33:43</td>\n",
              "      <td>300200</td>\n",
              "      <td>SM-G960U</td>\n",
              "      <td>28</td>\n",
              "      <td>INFORMATION_NOT_VERIFIED_TITLE</td>\n",
              "      <td>NaN</td>\n",
              "      <td>NaN</td>\n",
              "      <td>2019-10-28 08:33:47</td>\n",
              "      <td>1.0</td>\n",
              "    </tr>\n",
              "  </tbody>\n",
              "</table>\n",
              "</div>"
            ],
            "text/plain": [
              "            INSERT_TS  ...      CLIENT_VERSION\n",
              "0 2019-10-28 02:02:27  ...  1.0.201910230000.2\n",
              "1 2019-10-28 07:25:18  ...                 1.0\n",
              "2 2019-10-28 08:05:07  ...                 1.0\n",
              "3 2019-10-28 08:32:42  ...                 1.0\n",
              "4 2019-10-28 08:33:43  ...                 1.0\n",
              "\n",
              "[5 rows x 9 columns]"
            ]
          },
          "metadata": {
            "tags": []
          },
          "execution_count": 12
        }
      ]
    },
    {
      "cell_type": "markdown",
      "metadata": {
        "id": "s15AMyfr40Hi",
        "colab_type": "text"
      },
      "source": [
        "### Extract page counts and submission sizes\n"
      ]
    },
    {
      "cell_type": "code",
      "metadata": {
        "id": "lWf2Wd_ZxzNk",
        "colab_type": "code",
        "colab": {}
      },
      "source": [
        "df[\"Page Count\"] = df[\"Page Count\"].str.extract(r'\\b(\\w+)$', expand=True)"
      ],
      "execution_count": 0,
      "outputs": []
    },
    {
      "cell_type": "code",
      "metadata": {
        "id": "iWahctIdxzNm",
        "colab_type": "code",
        "outputId": "2d509e33-1729-47a1-8d1e-ac17eccae427",
        "colab": {
          "base_uri": "https://localhost:8080/",
          "height": 669
        }
      },
      "source": [
        "df[\"Size\"] = df[\"Size\"].str.extract(r'\\b(\\w+)$', expand=True)\n",
        "df.head(20)"
      ],
      "execution_count": 14,
      "outputs": [
        {
          "output_type": "execute_result",
          "data": {
            "text/html": [
              "<div>\n",
              "<style scoped>\n",
              "    .dataframe tbody tr th:only-of-type {\n",
              "        vertical-align: middle;\n",
              "    }\n",
              "\n",
              "    .dataframe tbody tr th {\n",
              "        vertical-align: top;\n",
              "    }\n",
              "\n",
              "    .dataframe thead th {\n",
              "        text-align: right;\n",
              "    }\n",
              "</style>\n",
              "<table border=\"1\" class=\"dataframe\">\n",
              "  <thead>\n",
              "    <tr style=\"text-align: right;\">\n",
              "      <th></th>\n",
              "      <th>INSERT_TS</th>\n",
              "      <th>RESPONSE_STATUS_ID</th>\n",
              "      <th>DEVICE</th>\n",
              "      <th>DEVICE_OS</th>\n",
              "      <th>RESPONSE_STATUS_NAME</th>\n",
              "      <th>Size</th>\n",
              "      <th>Page Count</th>\n",
              "      <th>LAST_UPDATE_TS</th>\n",
              "      <th>CLIENT_VERSION</th>\n",
              "    </tr>\n",
              "  </thead>\n",
              "  <tbody>\n",
              "    <tr>\n",
              "      <th>0</th>\n",
              "      <td>2019-10-28 02:02:27</td>\n",
              "      <td>300100</td>\n",
              "      <td>iPhone 6s Plus</td>\n",
              "      <td>13.1.3</td>\n",
              "      <td>Successful validation.</td>\n",
              "      <td>NaN</td>\n",
              "      <td>NaN</td>\n",
              "      <td>2019-10-28 02:02:29</td>\n",
              "      <td>1.0.201910230000.2</td>\n",
              "    </tr>\n",
              "    <tr>\n",
              "      <th>1</th>\n",
              "      <td>2019-10-28 07:25:18</td>\n",
              "      <td>300100</td>\n",
              "      <td>SM-N960U1</td>\n",
              "      <td>28</td>\n",
              "      <td>Successful validation.</td>\n",
              "      <td>NaN</td>\n",
              "      <td>NaN</td>\n",
              "      <td>2019-10-28 07:25:21</td>\n",
              "      <td>1.0</td>\n",
              "    </tr>\n",
              "    <tr>\n",
              "      <th>2</th>\n",
              "      <td>2019-10-28 08:05:07</td>\n",
              "      <td>300100</td>\n",
              "      <td>SM-G960U</td>\n",
              "      <td>28</td>\n",
              "      <td>Successful validation.</td>\n",
              "      <td>NaN</td>\n",
              "      <td>NaN</td>\n",
              "      <td>2019-10-28 08:05:12</td>\n",
              "      <td>1.0</td>\n",
              "    </tr>\n",
              "    <tr>\n",
              "      <th>3</th>\n",
              "      <td>2019-10-28 08:32:42</td>\n",
              "      <td>300100</td>\n",
              "      <td>SM-G960U</td>\n",
              "      <td>28</td>\n",
              "      <td>Successful validation.</td>\n",
              "      <td>NaN</td>\n",
              "      <td>NaN</td>\n",
              "      <td>2019-10-28 08:32:46</td>\n",
              "      <td>1.0</td>\n",
              "    </tr>\n",
              "    <tr>\n",
              "      <th>4</th>\n",
              "      <td>2019-10-28 08:33:43</td>\n",
              "      <td>300200</td>\n",
              "      <td>SM-G960U</td>\n",
              "      <td>28</td>\n",
              "      <td>INFORMATION_NOT_VERIFIED_TITLE</td>\n",
              "      <td>NaN</td>\n",
              "      <td>NaN</td>\n",
              "      <td>2019-10-28 08:33:47</td>\n",
              "      <td>1.0</td>\n",
              "    </tr>\n",
              "    <tr>\n",
              "      <th>5</th>\n",
              "      <td>2019-10-28 08:34:22</td>\n",
              "      <td>300100</td>\n",
              "      <td>SM-G960U</td>\n",
              "      <td>28</td>\n",
              "      <td>Successful validation.</td>\n",
              "      <td>NaN</td>\n",
              "      <td>NaN</td>\n",
              "      <td>2019-10-28 08:34:22</td>\n",
              "      <td>1.0</td>\n",
              "    </tr>\n",
              "    <tr>\n",
              "      <th>6</th>\n",
              "      <td>2019-10-28 08:57:13</td>\n",
              "      <td>300100</td>\n",
              "      <td>iPhone XS Max</td>\n",
              "      <td>13.1.3</td>\n",
              "      <td>Successful validation.</td>\n",
              "      <td>NaN</td>\n",
              "      <td>NaN</td>\n",
              "      <td>2019-10-28 08:57:17</td>\n",
              "      <td>1.0.201910230000.2</td>\n",
              "    </tr>\n",
              "    <tr>\n",
              "      <th>7</th>\n",
              "      <td>2019-10-28 08:59:24</td>\n",
              "      <td>300100</td>\n",
              "      <td>iPhone XR</td>\n",
              "      <td>13.1.2</td>\n",
              "      <td>Successful validation.</td>\n",
              "      <td>NaN</td>\n",
              "      <td>NaN</td>\n",
              "      <td>2019-10-28 08:59:28</td>\n",
              "      <td>1.0.201910230000.2</td>\n",
              "    </tr>\n",
              "    <tr>\n",
              "      <th>8</th>\n",
              "      <td>2019-10-28 08:59:28</td>\n",
              "      <td>400205</td>\n",
              "      <td>iPhone XS Max</td>\n",
              "      <td>13.1.3</td>\n",
              "      <td>Invalid image content</td>\n",
              "      <td>10155392</td>\n",
              "      <td>4</td>\n",
              "      <td>2019-10-28 08:59:29</td>\n",
              "      <td>1.0.201910230000.2</td>\n",
              "    </tr>\n",
              "    <tr>\n",
              "      <th>9</th>\n",
              "      <td>2019-10-28 09:00:34</td>\n",
              "      <td>400205</td>\n",
              "      <td>iPhone XS Max</td>\n",
              "      <td>13.1.3</td>\n",
              "      <td>Invalid image content</td>\n",
              "      <td>10155392</td>\n",
              "      <td>4</td>\n",
              "      <td>2019-10-28 09:00:35</td>\n",
              "      <td>1.0.201910230000.2</td>\n",
              "    </tr>\n",
              "    <tr>\n",
              "      <th>10</th>\n",
              "      <td>2019-10-28 09:02:49</td>\n",
              "      <td>400205</td>\n",
              "      <td>iPhone XS Max</td>\n",
              "      <td>13.1.3</td>\n",
              "      <td>Invalid image content</td>\n",
              "      <td>10155392</td>\n",
              "      <td>4</td>\n",
              "      <td>2019-10-28 09:02:49</td>\n",
              "      <td>1.0.201910230000.2</td>\n",
              "    </tr>\n",
              "    <tr>\n",
              "      <th>11</th>\n",
              "      <td>2019-10-28 09:04:58</td>\n",
              "      <td>300200</td>\n",
              "      <td>iPhone 8 Plus</td>\n",
              "      <td>13.1.2</td>\n",
              "      <td>INFORMATION_NOT_VERIFIED_TITLE</td>\n",
              "      <td>NaN</td>\n",
              "      <td>NaN</td>\n",
              "      <td>2019-10-28 09:05:06</td>\n",
              "      <td>1.0.201910230000.2</td>\n",
              "    </tr>\n",
              "    <tr>\n",
              "      <th>12</th>\n",
              "      <td>2019-10-28 09:05:28</td>\n",
              "      <td>400100</td>\n",
              "      <td>iPhone XS Max</td>\n",
              "      <td>13.1.3</td>\n",
              "      <td>Documents successfully submitted.</td>\n",
              "      <td>9031376</td>\n",
              "      <td>4</td>\n",
              "      <td>2019-10-28 09:05:29</td>\n",
              "      <td>1.0.201910230000.2</td>\n",
              "    </tr>\n",
              "    <tr>\n",
              "      <th>13</th>\n",
              "      <td>2019-10-28 09:07:18</td>\n",
              "      <td>300200</td>\n",
              "      <td>iPhone 8 Plus</td>\n",
              "      <td>13.1.2</td>\n",
              "      <td>INFORMATION_NOT_VERIFIED_TITLE</td>\n",
              "      <td>NaN</td>\n",
              "      <td>NaN</td>\n",
              "      <td>2019-10-28 09:07:19</td>\n",
              "      <td>1.0.201910230000.2</td>\n",
              "    </tr>\n",
              "    <tr>\n",
              "      <th>14</th>\n",
              "      <td>2019-10-28 09:08:27</td>\n",
              "      <td>300200</td>\n",
              "      <td>iPhone 8 Plus</td>\n",
              "      <td>13.1.2</td>\n",
              "      <td>INFORMATION_NOT_VERIFIED_TITLE</td>\n",
              "      <td>NaN</td>\n",
              "      <td>NaN</td>\n",
              "      <td>2019-10-28 09:08:27</td>\n",
              "      <td>1.0.201910230000.2</td>\n",
              "    </tr>\n",
              "    <tr>\n",
              "      <th>15</th>\n",
              "      <td>2019-10-28 09:14:48</td>\n",
              "      <td>300100</td>\n",
              "      <td>iPhone XR</td>\n",
              "      <td>13.1.3</td>\n",
              "      <td>Successful validation.</td>\n",
              "      <td>NaN</td>\n",
              "      <td>NaN</td>\n",
              "      <td>2019-10-28 09:14:51</td>\n",
              "      <td>1.0.201910230000.2</td>\n",
              "    </tr>\n",
              "    <tr>\n",
              "      <th>16</th>\n",
              "      <td>2019-10-28 09:15:51</td>\n",
              "      <td>300100</td>\n",
              "      <td>iPhone 8</td>\n",
              "      <td>13.1.3</td>\n",
              "      <td>Successful validation.</td>\n",
              "      <td>NaN</td>\n",
              "      <td>NaN</td>\n",
              "      <td>2019-10-28 09:15:55</td>\n",
              "      <td>1.0.201910230000.2</td>\n",
              "    </tr>\n",
              "    <tr>\n",
              "      <th>17</th>\n",
              "      <td>2019-10-28 09:21:51</td>\n",
              "      <td>300200</td>\n",
              "      <td>iPhone XS</td>\n",
              "      <td>13.1.3</td>\n",
              "      <td>INFORMATION_NOT_VERIFIED_TITLE</td>\n",
              "      <td>NaN</td>\n",
              "      <td>NaN</td>\n",
              "      <td>2019-10-28 09:21:54</td>\n",
              "      <td>1.0.201910230000.2</td>\n",
              "    </tr>\n",
              "    <tr>\n",
              "      <th>18</th>\n",
              "      <td>2019-10-28 09:22:41</td>\n",
              "      <td>300200</td>\n",
              "      <td>iPhone 6s Plus</td>\n",
              "      <td>13.1.3</td>\n",
              "      <td>INFORMATION_NOT_VERIFIED_TITLE</td>\n",
              "      <td>NaN</td>\n",
              "      <td>NaN</td>\n",
              "      <td>2019-10-28 09:23:27</td>\n",
              "      <td>1.0.201910230000.2</td>\n",
              "    </tr>\n",
              "    <tr>\n",
              "      <th>19</th>\n",
              "      <td>2019-10-28 09:23:05</td>\n",
              "      <td>300100</td>\n",
              "      <td>iPhone XS</td>\n",
              "      <td>13.1.3</td>\n",
              "      <td>Successful validation.</td>\n",
              "      <td>NaN</td>\n",
              "      <td>NaN</td>\n",
              "      <td>2019-10-28 09:23:05</td>\n",
              "      <td>1.0.201910230000.2</td>\n",
              "    </tr>\n",
              "  </tbody>\n",
              "</table>\n",
              "</div>"
            ],
            "text/plain": [
              "             INSERT_TS  ...      CLIENT_VERSION\n",
              "0  2019-10-28 02:02:27  ...  1.0.201910230000.2\n",
              "1  2019-10-28 07:25:18  ...                 1.0\n",
              "2  2019-10-28 08:05:07  ...                 1.0\n",
              "3  2019-10-28 08:32:42  ...                 1.0\n",
              "4  2019-10-28 08:33:43  ...                 1.0\n",
              "5  2019-10-28 08:34:22  ...                 1.0\n",
              "6  2019-10-28 08:57:13  ...  1.0.201910230000.2\n",
              "7  2019-10-28 08:59:24  ...  1.0.201910230000.2\n",
              "8  2019-10-28 08:59:28  ...  1.0.201910230000.2\n",
              "9  2019-10-28 09:00:34  ...  1.0.201910230000.2\n",
              "10 2019-10-28 09:02:49  ...  1.0.201910230000.2\n",
              "11 2019-10-28 09:04:58  ...  1.0.201910230000.2\n",
              "12 2019-10-28 09:05:28  ...  1.0.201910230000.2\n",
              "13 2019-10-28 09:07:18  ...  1.0.201910230000.2\n",
              "14 2019-10-28 09:08:27  ...  1.0.201910230000.2\n",
              "15 2019-10-28 09:14:48  ...  1.0.201910230000.2\n",
              "16 2019-10-28 09:15:51  ...  1.0.201910230000.2\n",
              "17 2019-10-28 09:21:51  ...  1.0.201910230000.2\n",
              "18 2019-10-28 09:22:41  ...  1.0.201910230000.2\n",
              "19 2019-10-28 09:23:05  ...  1.0.201910230000.2\n",
              "\n",
              "[20 rows x 9 columns]"
            ]
          },
          "metadata": {
            "tags": []
          },
          "execution_count": 14
        }
      ]
    },
    {
      "cell_type": "code",
      "metadata": {
        "id": "P8PW8M6RxzNo",
        "colab_type": "code",
        "outputId": "b6ae9322-a0b2-422d-8283-02193a0086b9",
        "colab": {
          "base_uri": "https://localhost:8080/",
          "height": 187
        }
      },
      "source": [
        "df.dtypes"
      ],
      "execution_count": 15,
      "outputs": [
        {
          "output_type": "execute_result",
          "data": {
            "text/plain": [
              "INSERT_TS               datetime64[ns]\n",
              "RESPONSE_STATUS_ID               int64\n",
              "DEVICE                          object\n",
              "DEVICE_OS                       object\n",
              "RESPONSE_STATUS_NAME            object\n",
              "Size                            object\n",
              "Page Count                      object\n",
              "LAST_UPDATE_TS          datetime64[ns]\n",
              "CLIENT_VERSION                  object\n",
              "dtype: object"
            ]
          },
          "metadata": {
            "tags": []
          },
          "execution_count": 15
        }
      ]
    },
    {
      "cell_type": "code",
      "metadata": {
        "id": "1BvpZ-RSxzNq",
        "colab_type": "code",
        "outputId": "5698af0c-ea71-4721-f785-80f306ccb7b0",
        "colab": {
          "base_uri": "https://localhost:8080/",
          "height": 187
        }
      },
      "source": [
        "df[\"Size\"] = pd.to_numeric(df.Size)\n",
        "df[\"Page Count\"] = pd.to_numeric(df[\"Page Count\"])\n",
        "df.dtypes"
      ],
      "execution_count": 16,
      "outputs": [
        {
          "output_type": "execute_result",
          "data": {
            "text/plain": [
              "INSERT_TS               datetime64[ns]\n",
              "RESPONSE_STATUS_ID               int64\n",
              "DEVICE                          object\n",
              "DEVICE_OS                       object\n",
              "RESPONSE_STATUS_NAME            object\n",
              "Size                           float64\n",
              "Page Count                     float64\n",
              "LAST_UPDATE_TS          datetime64[ns]\n",
              "CLIENT_VERSION                  object\n",
              "dtype: object"
            ]
          },
          "metadata": {
            "tags": []
          },
          "execution_count": 16
        }
      ]
    },
    {
      "cell_type": "code",
      "metadata": {
        "id": "cGB8baCXxzNs",
        "colab_type": "code",
        "colab": {}
      },
      "source": [
        "df[\"Size\"].fillna(0, inplace=True)\n",
        "df[\"Page Count\"].fillna(0, inplace=True)"
      ],
      "execution_count": 0,
      "outputs": []
    },
    {
      "cell_type": "code",
      "metadata": {
        "id": "g-bc8vGzxzNt",
        "colab_type": "code",
        "outputId": "87996ffa-8d04-4a43-de78-7166498050c7",
        "colab": {
          "base_uri": "https://localhost:8080/",
          "height": 359
        }
      },
      "source": [
        "df[\"Size\"] = df[\"Size\"].astype(int)\n",
        "df[\"Page Count\"] = df[\"Page Count\"].astype(int)\n",
        "df.head(10)\n"
      ],
      "execution_count": 18,
      "outputs": [
        {
          "output_type": "execute_result",
          "data": {
            "text/html": [
              "<div>\n",
              "<style scoped>\n",
              "    .dataframe tbody tr th:only-of-type {\n",
              "        vertical-align: middle;\n",
              "    }\n",
              "\n",
              "    .dataframe tbody tr th {\n",
              "        vertical-align: top;\n",
              "    }\n",
              "\n",
              "    .dataframe thead th {\n",
              "        text-align: right;\n",
              "    }\n",
              "</style>\n",
              "<table border=\"1\" class=\"dataframe\">\n",
              "  <thead>\n",
              "    <tr style=\"text-align: right;\">\n",
              "      <th></th>\n",
              "      <th>INSERT_TS</th>\n",
              "      <th>RESPONSE_STATUS_ID</th>\n",
              "      <th>DEVICE</th>\n",
              "      <th>DEVICE_OS</th>\n",
              "      <th>RESPONSE_STATUS_NAME</th>\n",
              "      <th>Size</th>\n",
              "      <th>Page Count</th>\n",
              "      <th>LAST_UPDATE_TS</th>\n",
              "      <th>CLIENT_VERSION</th>\n",
              "    </tr>\n",
              "  </thead>\n",
              "  <tbody>\n",
              "    <tr>\n",
              "      <th>0</th>\n",
              "      <td>2019-10-28 02:02:27</td>\n",
              "      <td>300100</td>\n",
              "      <td>iPhone 6s Plus</td>\n",
              "      <td>13.1.3</td>\n",
              "      <td>Successful validation.</td>\n",
              "      <td>0</td>\n",
              "      <td>0</td>\n",
              "      <td>2019-10-28 02:02:29</td>\n",
              "      <td>1.0.201910230000.2</td>\n",
              "    </tr>\n",
              "    <tr>\n",
              "      <th>1</th>\n",
              "      <td>2019-10-28 07:25:18</td>\n",
              "      <td>300100</td>\n",
              "      <td>SM-N960U1</td>\n",
              "      <td>28</td>\n",
              "      <td>Successful validation.</td>\n",
              "      <td>0</td>\n",
              "      <td>0</td>\n",
              "      <td>2019-10-28 07:25:21</td>\n",
              "      <td>1.0</td>\n",
              "    </tr>\n",
              "    <tr>\n",
              "      <th>2</th>\n",
              "      <td>2019-10-28 08:05:07</td>\n",
              "      <td>300100</td>\n",
              "      <td>SM-G960U</td>\n",
              "      <td>28</td>\n",
              "      <td>Successful validation.</td>\n",
              "      <td>0</td>\n",
              "      <td>0</td>\n",
              "      <td>2019-10-28 08:05:12</td>\n",
              "      <td>1.0</td>\n",
              "    </tr>\n",
              "    <tr>\n",
              "      <th>3</th>\n",
              "      <td>2019-10-28 08:32:42</td>\n",
              "      <td>300100</td>\n",
              "      <td>SM-G960U</td>\n",
              "      <td>28</td>\n",
              "      <td>Successful validation.</td>\n",
              "      <td>0</td>\n",
              "      <td>0</td>\n",
              "      <td>2019-10-28 08:32:46</td>\n",
              "      <td>1.0</td>\n",
              "    </tr>\n",
              "    <tr>\n",
              "      <th>4</th>\n",
              "      <td>2019-10-28 08:33:43</td>\n",
              "      <td>300200</td>\n",
              "      <td>SM-G960U</td>\n",
              "      <td>28</td>\n",
              "      <td>INFORMATION_NOT_VERIFIED_TITLE</td>\n",
              "      <td>0</td>\n",
              "      <td>0</td>\n",
              "      <td>2019-10-28 08:33:47</td>\n",
              "      <td>1.0</td>\n",
              "    </tr>\n",
              "    <tr>\n",
              "      <th>5</th>\n",
              "      <td>2019-10-28 08:34:22</td>\n",
              "      <td>300100</td>\n",
              "      <td>SM-G960U</td>\n",
              "      <td>28</td>\n",
              "      <td>Successful validation.</td>\n",
              "      <td>0</td>\n",
              "      <td>0</td>\n",
              "      <td>2019-10-28 08:34:22</td>\n",
              "      <td>1.0</td>\n",
              "    </tr>\n",
              "    <tr>\n",
              "      <th>6</th>\n",
              "      <td>2019-10-28 08:57:13</td>\n",
              "      <td>300100</td>\n",
              "      <td>iPhone XS Max</td>\n",
              "      <td>13.1.3</td>\n",
              "      <td>Successful validation.</td>\n",
              "      <td>0</td>\n",
              "      <td>0</td>\n",
              "      <td>2019-10-28 08:57:17</td>\n",
              "      <td>1.0.201910230000.2</td>\n",
              "    </tr>\n",
              "    <tr>\n",
              "      <th>7</th>\n",
              "      <td>2019-10-28 08:59:24</td>\n",
              "      <td>300100</td>\n",
              "      <td>iPhone XR</td>\n",
              "      <td>13.1.2</td>\n",
              "      <td>Successful validation.</td>\n",
              "      <td>0</td>\n",
              "      <td>0</td>\n",
              "      <td>2019-10-28 08:59:28</td>\n",
              "      <td>1.0.201910230000.2</td>\n",
              "    </tr>\n",
              "    <tr>\n",
              "      <th>8</th>\n",
              "      <td>2019-10-28 08:59:28</td>\n",
              "      <td>400205</td>\n",
              "      <td>iPhone XS Max</td>\n",
              "      <td>13.1.3</td>\n",
              "      <td>Invalid image content</td>\n",
              "      <td>10155392</td>\n",
              "      <td>4</td>\n",
              "      <td>2019-10-28 08:59:29</td>\n",
              "      <td>1.0.201910230000.2</td>\n",
              "    </tr>\n",
              "    <tr>\n",
              "      <th>9</th>\n",
              "      <td>2019-10-28 09:00:34</td>\n",
              "      <td>400205</td>\n",
              "      <td>iPhone XS Max</td>\n",
              "      <td>13.1.3</td>\n",
              "      <td>Invalid image content</td>\n",
              "      <td>10155392</td>\n",
              "      <td>4</td>\n",
              "      <td>2019-10-28 09:00:35</td>\n",
              "      <td>1.0.201910230000.2</td>\n",
              "    </tr>\n",
              "  </tbody>\n",
              "</table>\n",
              "</div>"
            ],
            "text/plain": [
              "            INSERT_TS  ...      CLIENT_VERSION\n",
              "0 2019-10-28 02:02:27  ...  1.0.201910230000.2\n",
              "1 2019-10-28 07:25:18  ...                 1.0\n",
              "2 2019-10-28 08:05:07  ...                 1.0\n",
              "3 2019-10-28 08:32:42  ...                 1.0\n",
              "4 2019-10-28 08:33:43  ...                 1.0\n",
              "5 2019-10-28 08:34:22  ...                 1.0\n",
              "6 2019-10-28 08:57:13  ...  1.0.201910230000.2\n",
              "7 2019-10-28 08:59:24  ...  1.0.201910230000.2\n",
              "8 2019-10-28 08:59:28  ...  1.0.201910230000.2\n",
              "9 2019-10-28 09:00:34  ...  1.0.201910230000.2\n",
              "\n",
              "[10 rows x 9 columns]"
            ]
          },
          "metadata": {
            "tags": []
          },
          "execution_count": 18
        }
      ]
    },
    {
      "cell_type": "code",
      "metadata": {
        "id": "_TRYzY3XxzN1",
        "colab_type": "code",
        "outputId": "00c80be1-4167-4fe2-f89d-4ad5579c3cf5",
        "colab": {
          "base_uri": "https://localhost:8080/",
          "height": 119
        }
      },
      "source": [
        "print (\"Number of Unsuccessful Logins: \",df[ df[\"RESPONSE_STATUS_ID\"] == 300200 ].shape[0])\n",
        "print (\"Number of Successful Logins: \",df[ df[\"RESPONSE_STATUS_ID\"] == 300100 ].shape[0])\n",
        "df_submit = df[ df[\"RESPONSE_STATUS_ID\"] == 400100 ][\"Page Count\"]\n",
        "print (\"Number of Submissions: \",df_submit.shape[0])\n",
        "print (\"Number of Pages Submitted: \",df[\"Page Count\"].sum())\n",
        "print (\"Number of iOS Devices:\", df[ df[\"CLIENT_VERSION\"] == \"1.0.201910230000.2\" ].shape[0] )\n",
        "print (\"Number of Android Devices:\", df[ df[\"CLIENT_VERSION\"] == \"1.0\" ].shape[0]  )"
      ],
      "execution_count": 19,
      "outputs": [
        {
          "output_type": "stream",
          "text": [
            "Number of Unsuccessful Logins:  1119\n",
            "Number of Successful Logins:  1844\n",
            "Number of Submissions:  1439\n",
            "Number of Pages Submitted:  2311\n",
            "Number of iOS Devices: 2893\n",
            "Number of Android Devices: 1533\n"
          ],
          "name": "stdout"
        }
      ]
    },
    {
      "cell_type": "code",
      "metadata": {
        "id": "knQk4kAIxzN4",
        "colab_type": "code",
        "outputId": "43c18065-8cc9-4b3d-c367-f3ed3c4a39f4",
        "colab": {
          "base_uri": "https://localhost:8080/",
          "height": 170
        }
      },
      "source": [
        "df_submit.describe()\n"
      ],
      "execution_count": 20,
      "outputs": [
        {
          "output_type": "execute_result",
          "data": {
            "text/plain": [
              "count    1439.000000\n",
              "mean        1.505907\n",
              "std         1.008207\n",
              "min         1.000000\n",
              "25%         1.000000\n",
              "50%         1.000000\n",
              "75%         2.000000\n",
              "max        10.000000\n",
              "Name: Page Count, dtype: float64"
            ]
          },
          "metadata": {
            "tags": []
          },
          "execution_count": 20
        }
      ]
    },
    {
      "cell_type": "code",
      "metadata": {
        "id": "nNm4t9zNxzN6",
        "colab_type": "code",
        "outputId": "f2f37600-69fb-4954-ff5a-5206edb7b3a6",
        "colab": {
          "base_uri": "https://localhost:8080/",
          "height": 221
        }
      },
      "source": [
        "df[\"Size\"]/1000000."
      ],
      "execution_count": 21,
      "outputs": [
        {
          "output_type": "execute_result",
          "data": {
            "text/plain": [
              "0       0.000000\n",
              "1       0.000000\n",
              "2       0.000000\n",
              "3       0.000000\n",
              "4       0.000000\n",
              "          ...   \n",
              "4428    3.689664\n",
              "4429    1.669504\n",
              "4430    2.684432\n",
              "4431    0.000000\n",
              "4432    0.000000\n",
              "Name: Size, Length: 4433, dtype: float64"
            ]
          },
          "metadata": {
            "tags": []
          },
          "execution_count": 21
        }
      ]
    },
    {
      "cell_type": "code",
      "metadata": {
        "id": "ucDyTbBYxzN8",
        "colab_type": "code",
        "outputId": "ec0968be-960b-43cb-e4e3-d5210304693d",
        "colab": {
          "base_uri": "https://localhost:8080/",
          "height": 282
        }
      },
      "source": [
        "df_submit.plot.hist(bins=5, alpha=0.5)"
      ],
      "execution_count": 22,
      "outputs": [
        {
          "output_type": "execute_result",
          "data": {
            "text/plain": [
              "<matplotlib.axes._subplots.AxesSubplot at 0x7f45d431cdd8>"
            ]
          },
          "metadata": {
            "tags": []
          },
          "execution_count": 22
        },
        {
          "output_type": "display_data",
          "data": {
            "image/png": "[encoded data removed]",
            "text/plain": [
              "<Figure size 432x288 with 1 Axes>"
            ]
          },
          "metadata": {
            "tags": []
          }
        }
      ]
    },
    {
      "cell_type": "code",
      "metadata": {
        "id": "2hboBbqExzN-",
        "colab_type": "code",
        "outputId": "fd3e9674-4b7b-4402-ed15-3f0b2f4c53c3",
        "colab": {
          "base_uri": "https://localhost:8080/",
          "height": 391
        }
      },
      "source": [
        "device = df.groupby([\"DEVICE\"])[\"DEVICE\"].count()\n",
        "device = device.sort_values(ascending = False).head(20)\n",
        "device"
      ],
      "execution_count": 23,
      "outputs": [
        {
          "output_type": "execute_result",
          "data": {
            "text/plain": [
              "DEVICE\n",
              "iPhone XR         510\n",
              "iPhone 8 Plus     416\n",
              "iPhone 7 Plus     299\n",
              "iPhone XS Max     262\n",
              "iPhone X          261\n",
              "iPhone 7          231\n",
              "iPhone 8          184\n",
              "iPhone 6s Plus    137\n",
              "iPhone 6s         125\n",
              "SM-G960U          114\n",
              "SM-N950U          101\n",
              "iPhone12,1         91\n",
              "iPhone XS          91\n",
              "SM-N960U           84\n",
              "iPhone12,5         84\n",
              "SM-G965U           79\n",
              "SM-G975U           65\n",
              "iPhone 6           60\n",
              "SM-G950U           59\n",
              "SM-G955U           45\n",
              "Name: DEVICE, dtype: int64"
            ]
          },
          "metadata": {
            "tags": []
          },
          "execution_count": 23
        }
      ]
    },
    {
      "cell_type": "code",
      "metadata": {
        "id": "VrcMbqQnxzOA",
        "colab_type": "code",
        "outputId": "19f9967c-f881-42ca-cc1f-94279b46dc00",
        "colab": {
          "base_uri": "https://localhost:8080/",
          "height": 34
        }
      },
      "source": [
        "logins = df[ (df[\"RESPONSE_STATUS_ID\"] == 300200) | (df[\"RESPONSE_STATUS_ID\"] == 300100) ]\n",
        "print ('number of logins: ',logins.shape[0])"
      ],
      "execution_count": 24,
      "outputs": [
        {
          "output_type": "stream",
          "text": [
            "number of logins:  2963\n"
          ],
          "name": "stdout"
        }
      ]
    },
    {
      "cell_type": "code",
      "metadata": {
        "colab_type": "code",
        "outputId": "4a1c35b7-b67b-40d1-dcd6-2dc6551adbf4",
        "id": "-yRLk-4XB0P4",
        "colab": {
          "base_uri": "https://localhost:8080/",
          "height": 136
        }
      },
      "source": [
        "df.groupby([\"RESPONSE_STATUS_NAME\"])[\"RESPONSE_STATUS_NAME\"].count()"
      ],
      "execution_count": 25,
      "outputs": [
        {
          "output_type": "execute_result",
          "data": {
            "text/plain": [
              "RESPONSE_STATUS_NAME\n",
              "Documents successfully submitted.                1439\n",
              "INFORMATION_NOT_VERIFIED_TITLE                   1119\n",
              "Invalid image content                              27\n",
              "Successful validation.                           1844\n",
              "Unable to validate consumer message received.       4\n",
              "Name: RESPONSE_STATUS_NAME, dtype: int64"
            ]
          },
          "metadata": {
            "tags": []
          },
          "execution_count": 25
        }
      ]
    },
    {
      "cell_type": "code",
      "metadata": {
        "id": "IsMCkPTlxzOH",
        "colab_type": "code",
        "colab": {}
      },
      "source": [
        "df[\"Time_Lag\"] = df[\"INSERT_TS\"] - df[\"INSERT_TS\"].shift(1,fill_value=0) "
      ],
      "execution_count": 0,
      "outputs": []
    },
    {
      "cell_type": "code",
      "metadata": {
        "id": "rd930DkCxzOJ",
        "colab_type": "code",
        "colab": {}
      },
      "source": [
        "df[\"Time_Lag\"] = df[\"Time_Lag\"].dt.total_seconds()"
      ],
      "execution_count": 0,
      "outputs": []
    },
    {
      "cell_type": "code",
      "metadata": {
        "id": "f7aRCdg6xzOP",
        "colab_type": "code",
        "outputId": "61d2705f-0e0e-4c0d-ddea-ba9f39fbeaa0",
        "colab": {
          "base_uri": "https://localhost:8080/",
          "height": 235
        }
      },
      "source": [
        "df.head()"
      ],
      "execution_count": 37,
      "outputs": [
        {
          "output_type": "execute_result",
          "data": {
            "text/html": [
              "<div>\n",
              "<style scoped>\n",
              "    .dataframe tbody tr th:only-of-type {\n",
              "        vertical-align: middle;\n",
              "    }\n",
              "\n",
              "    .dataframe tbody tr th {\n",
              "        vertical-align: top;\n",
              "    }\n",
              "\n",
              "    .dataframe thead th {\n",
              "        text-align: right;\n",
              "    }\n",
              "</style>\n",
              "<table border=\"1\" class=\"dataframe\">\n",
              "  <thead>\n",
              "    <tr style=\"text-align: right;\">\n",
              "      <th></th>\n",
              "      <th>RESPONSE_STATUS_ID</th>\n",
              "      <th>DEVICE</th>\n",
              "      <th>DEVICE_OS</th>\n",
              "      <th>RESPONSE_STATUS_NAME</th>\n",
              "      <th>Size</th>\n",
              "      <th>Page Count</th>\n",
              "      <th>LAST_UPDATE_TS</th>\n",
              "      <th>CLIENT_VERSION</th>\n",
              "      <th>Time_Lag</th>\n",
              "      <th>DEVICE_Lag</th>\n",
              "    </tr>\n",
              "    <tr>\n",
              "      <th>INSERT_TS</th>\n",
              "      <th></th>\n",
              "      <th></th>\n",
              "      <th></th>\n",
              "      <th></th>\n",
              "      <th></th>\n",
              "      <th></th>\n",
              "      <th></th>\n",
              "      <th></th>\n",
              "      <th></th>\n",
              "      <th></th>\n",
              "    </tr>\n",
              "  </thead>\n",
              "  <tbody>\n",
              "    <tr>\n",
              "      <th>2019-10-28 02:02:27</th>\n",
              "      <td>300100</td>\n",
              "      <td>iPhone 6s Plus</td>\n",
              "      <td>13.1.3</td>\n",
              "      <td>Successful validation.</td>\n",
              "      <td>0</td>\n",
              "      <td>0</td>\n",
              "      <td>2019-10-28 02:02:29</td>\n",
              "      <td>1.0.201910230000.2</td>\n",
              "      <td>1.572228e+09</td>\n",
              "      <td>None</td>\n",
              "    </tr>\n",
              "    <tr>\n",
              "      <th>2019-10-28 07:25:18</th>\n",
              "      <td>300100</td>\n",
              "      <td>SM-N960U1</td>\n",
              "      <td>28</td>\n",
              "      <td>Successful validation.</td>\n",
              "      <td>0</td>\n",
              "      <td>0</td>\n",
              "      <td>2019-10-28 07:25:21</td>\n",
              "      <td>1.0</td>\n",
              "      <td>1.937100e+04</td>\n",
              "      <td>iPhone 6s Plus</td>\n",
              "    </tr>\n",
              "    <tr>\n",
              "      <th>2019-10-28 08:05:07</th>\n",
              "      <td>300100</td>\n",
              "      <td>SM-G960U</td>\n",
              "      <td>28</td>\n",
              "      <td>Successful validation.</td>\n",
              "      <td>0</td>\n",
              "      <td>0</td>\n",
              "      <td>2019-10-28 08:05:12</td>\n",
              "      <td>1.0</td>\n",
              "      <td>2.389000e+03</td>\n",
              "      <td>SM-N960U1</td>\n",
              "    </tr>\n",
              "    <tr>\n",
              "      <th>2019-10-28 08:32:42</th>\n",
              "      <td>300100</td>\n",
              "      <td>SM-G960U</td>\n",
              "      <td>28</td>\n",
              "      <td>Successful validation.</td>\n",
              "      <td>0</td>\n",
              "      <td>0</td>\n",
              "      <td>2019-10-28 08:32:46</td>\n",
              "      <td>1.0</td>\n",
              "      <td>1.655000e+03</td>\n",
              "      <td>SM-G960U</td>\n",
              "    </tr>\n",
              "    <tr>\n",
              "      <th>2019-10-28 08:33:43</th>\n",
              "      <td>300200</td>\n",
              "      <td>SM-G960U</td>\n",
              "      <td>28</td>\n",
              "      <td>INFORMATION_NOT_VERIFIED_TITLE</td>\n",
              "      <td>0</td>\n",
              "      <td>0</td>\n",
              "      <td>2019-10-28 08:33:47</td>\n",
              "      <td>1.0</td>\n",
              "      <td>6.100000e+01</td>\n",
              "      <td>SM-G960U</td>\n",
              "    </tr>\n",
              "  </tbody>\n",
              "</table>\n",
              "</div>"
            ],
            "text/plain": [
              "                     RESPONSE_STATUS_ID  ...      DEVICE_Lag\n",
              "INSERT_TS                                ...                \n",
              "2019-10-28 02:02:27              300100  ...            None\n",
              "2019-10-28 07:25:18              300100  ...  iPhone 6s Plus\n",
              "2019-10-28 08:05:07              300100  ...       SM-N960U1\n",
              "2019-10-28 08:32:42              300100  ...        SM-G960U\n",
              "2019-10-28 08:33:43              300200  ...        SM-G960U\n",
              "\n",
              "[5 rows x 10 columns]"
            ]
          },
          "metadata": {
            "tags": []
          },
          "execution_count": 37
        }
      ]
    },
    {
      "cell_type": "code",
      "metadata": {
        "id": "Klkxc3pRxzOQ",
        "colab_type": "code",
        "colab": {}
      },
      "source": [
        "df_Copy = df.copy()"
      ],
      "execution_count": 0,
      "outputs": []
    },
    {
      "cell_type": "code",
      "metadata": {
        "id": "zv4qIfs7xzOT",
        "colab_type": "code",
        "colab": {}
      },
      "source": [
        "#df[\"RESPONSE_STATUS_ID\"] = df[\"RESPONSE_STATUS_ID\"].replace( [300200,300100,300202,400205,400100,], [1,2,3,4,5])"
      ],
      "execution_count": 0,
      "outputs": []
    },
    {
      "cell_type": "code",
      "metadata": {
        "id": "JmfrKvFDxzOW",
        "colab_type": "code",
        "colab": {}
      },
      "source": [
        "df[\"DEVICE_Lag\"] = df[\"DEVICE\"].shift(1,fill_value=\"None\") "
      ],
      "execution_count": 0,
      "outputs": []
    },
    {
      "cell_type": "code",
      "metadata": {
        "id": "EJIP0EymxzOZ",
        "colab_type": "code",
        "outputId": "fff72968-f4c8-49f8-8f71-996605d02544",
        "colab": {
          "base_uri": "https://localhost:8080/",
          "height": 204
        }
      },
      "source": [
        "df.head(5)"
      ],
      "execution_count": 32,
      "outputs": [
        {
          "output_type": "execute_result",
          "data": {
            "text/html": [
              "<div>\n",
              "<style scoped>\n",
              "    .dataframe tbody tr th:only-of-type {\n",
              "        vertical-align: middle;\n",
              "    }\n",
              "\n",
              "    .dataframe tbody tr th {\n",
              "        vertical-align: top;\n",
              "    }\n",
              "\n",
              "    .dataframe thead th {\n",
              "        text-align: right;\n",
              "    }\n",
              "</style>\n",
              "<table border=\"1\" class=\"dataframe\">\n",
              "  <thead>\n",
              "    <tr style=\"text-align: right;\">\n",
              "      <th></th>\n",
              "      <th>INSERT_TS</th>\n",
              "      <th>RESPONSE_STATUS_ID</th>\n",
              "      <th>DEVICE</th>\n",
              "      <th>DEVICE_OS</th>\n",
              "      <th>RESPONSE_STATUS_NAME</th>\n",
              "      <th>Size</th>\n",
              "      <th>Page Count</th>\n",
              "      <th>LAST_UPDATE_TS</th>\n",
              "      <th>CLIENT_VERSION</th>\n",
              "      <th>Time_Lag</th>\n",
              "      <th>DEVICE_Lag</th>\n",
              "    </tr>\n",
              "  </thead>\n",
              "  <tbody>\n",
              "    <tr>\n",
              "      <th>0</th>\n",
              "      <td>2019-10-28 02:02:27</td>\n",
              "      <td>300100</td>\n",
              "      <td>iPhone 6s Plus</td>\n",
              "      <td>13.1.3</td>\n",
              "      <td>Successful validation.</td>\n",
              "      <td>0</td>\n",
              "      <td>0</td>\n",
              "      <td>2019-10-28 02:02:29</td>\n",
              "      <td>1.0.201910230000.2</td>\n",
              "      <td>18197 days 02:02:27</td>\n",
              "      <td>None</td>\n",
              "    </tr>\n",
              "    <tr>\n",
              "      <th>1</th>\n",
              "      <td>2019-10-28 07:25:18</td>\n",
              "      <td>300100</td>\n",
              "      <td>SM-N960U1</td>\n",
              "      <td>28</td>\n",
              "      <td>Successful validation.</td>\n",
              "      <td>0</td>\n",
              "      <td>0</td>\n",
              "      <td>2019-10-28 07:25:21</td>\n",
              "      <td>1.0</td>\n",
              "      <td>0 days 05:22:51</td>\n",
              "      <td>iPhone 6s Plus</td>\n",
              "    </tr>\n",
              "    <tr>\n",
              "      <th>2</th>\n",
              "      <td>2019-10-28 08:05:07</td>\n",
              "      <td>300100</td>\n",
              "      <td>SM-G960U</td>\n",
              "      <td>28</td>\n",
              "      <td>Successful validation.</td>\n",
              "      <td>0</td>\n",
              "      <td>0</td>\n",
              "      <td>2019-10-28 08:05:12</td>\n",
              "      <td>1.0</td>\n",
              "      <td>0 days 00:39:49</td>\n",
              "      <td>SM-N960U1</td>\n",
              "    </tr>\n",
              "    <tr>\n",
              "      <th>3</th>\n",
              "      <td>2019-10-28 08:32:42</td>\n",
              "      <td>300100</td>\n",
              "      <td>SM-G960U</td>\n",
              "      <td>28</td>\n",
              "      <td>Successful validation.</td>\n",
              "      <td>0</td>\n",
              "      <td>0</td>\n",
              "      <td>2019-10-28 08:32:46</td>\n",
              "      <td>1.0</td>\n",
              "      <td>0 days 00:27:35</td>\n",
              "      <td>SM-G960U</td>\n",
              "    </tr>\n",
              "    <tr>\n",
              "      <th>4</th>\n",
              "      <td>2019-10-28 08:33:43</td>\n",
              "      <td>300200</td>\n",
              "      <td>SM-G960U</td>\n",
              "      <td>28</td>\n",
              "      <td>INFORMATION_NOT_VERIFIED_TITLE</td>\n",
              "      <td>0</td>\n",
              "      <td>0</td>\n",
              "      <td>2019-10-28 08:33:47</td>\n",
              "      <td>1.0</td>\n",
              "      <td>0 days 00:01:01</td>\n",
              "      <td>SM-G960U</td>\n",
              "    </tr>\n",
              "  </tbody>\n",
              "</table>\n",
              "</div>"
            ],
            "text/plain": [
              "            INSERT_TS  RESPONSE_STATUS_ID  ...            Time_Lag      DEVICE_Lag\n",
              "0 2019-10-28 02:02:27              300100  ... 18197 days 02:02:27            None\n",
              "1 2019-10-28 07:25:18              300100  ...     0 days 05:22:51  iPhone 6s Plus\n",
              "2 2019-10-28 08:05:07              300100  ...     0 days 00:39:49       SM-N960U1\n",
              "3 2019-10-28 08:32:42              300100  ...     0 days 00:27:35        SM-G960U\n",
              "4 2019-10-28 08:33:43              300200  ...     0 days 00:01:01        SM-G960U\n",
              "\n",
              "[5 rows x 11 columns]"
            ]
          },
          "metadata": {
            "tags": []
          },
          "execution_count": 32
        }
      ]
    },
    {
      "cell_type": "code",
      "metadata": {
        "id": "J7f_9X8gxzOa",
        "colab_type": "code",
        "outputId": "84329486-5492-4ebb-b2b6-5f99bca3d2dc",
        "colab": {
          "base_uri": "https://localhost:8080/",
          "height": 142
        }
      },
      "source": [
        "df.set_index(\"INSERT_TS\", inplace=True)\n",
        "df.head(2)"
      ],
      "execution_count": 33,
      "outputs": [
        {
          "output_type": "execute_result",
          "data": {
            "text/html": [
              "<div>\n",
              "<style scoped>\n",
              "    .dataframe tbody tr th:only-of-type {\n",
              "        vertical-align: middle;\n",
              "    }\n",
              "\n",
              "    .dataframe tbody tr th {\n",
              "        vertical-align: top;\n",
              "    }\n",
              "\n",
              "    .dataframe thead th {\n",
              "        text-align: right;\n",
              "    }\n",
              "</style>\n",
              "<table border=\"1\" class=\"dataframe\">\n",
              "  <thead>\n",
              "    <tr style=\"text-align: right;\">\n",
              "      <th></th>\n",
              "      <th>RESPONSE_STATUS_ID</th>\n",
              "      <th>DEVICE</th>\n",
              "      <th>DEVICE_OS</th>\n",
              "      <th>RESPONSE_STATUS_NAME</th>\n",
              "      <th>Size</th>\n",
              "      <th>Page Count</th>\n",
              "      <th>LAST_UPDATE_TS</th>\n",
              "      <th>CLIENT_VERSION</th>\n",
              "      <th>Time_Lag</th>\n",
              "      <th>DEVICE_Lag</th>\n",
              "    </tr>\n",
              "    <tr>\n",
              "      <th>INSERT_TS</th>\n",
              "      <th></th>\n",
              "      <th></th>\n",
              "      <th></th>\n",
              "      <th></th>\n",
              "      <th></th>\n",
              "      <th></th>\n",
              "      <th></th>\n",
              "      <th></th>\n",
              "      <th></th>\n",
              "      <th></th>\n",
              "    </tr>\n",
              "  </thead>\n",
              "  <tbody>\n",
              "    <tr>\n",
              "      <th>2019-10-28 02:02:27</th>\n",
              "      <td>300100</td>\n",
              "      <td>iPhone 6s Plus</td>\n",
              "      <td>13.1.3</td>\n",
              "      <td>Successful validation.</td>\n",
              "      <td>0</td>\n",
              "      <td>0</td>\n",
              "      <td>2019-10-28 02:02:29</td>\n",
              "      <td>1.0.201910230000.2</td>\n",
              "      <td>18197 days 02:02:27</td>\n",
              "      <td>None</td>\n",
              "    </tr>\n",
              "    <tr>\n",
              "      <th>2019-10-28 07:25:18</th>\n",
              "      <td>300100</td>\n",
              "      <td>SM-N960U1</td>\n",
              "      <td>28</td>\n",
              "      <td>Successful validation.</td>\n",
              "      <td>0</td>\n",
              "      <td>0</td>\n",
              "      <td>2019-10-28 07:25:21</td>\n",
              "      <td>1.0</td>\n",
              "      <td>0 days 05:22:51</td>\n",
              "      <td>iPhone 6s Plus</td>\n",
              "    </tr>\n",
              "  </tbody>\n",
              "</table>\n",
              "</div>"
            ],
            "text/plain": [
              "                     RESPONSE_STATUS_ID  ...      DEVICE_Lag\n",
              "INSERT_TS                                ...                \n",
              "2019-10-28 02:02:27              300100  ...            None\n",
              "2019-10-28 07:25:18              300100  ...  iPhone 6s Plus\n",
              "\n",
              "[2 rows x 10 columns]"
            ]
          },
          "metadata": {
            "tags": []
          },
          "execution_count": 33
        }
      ]
    },
    {
      "cell_type": "code",
      "metadata": {
        "id": "-5LeLQBVL--c",
        "colab_type": "code",
        "colab": {
          "base_uri": "https://localhost:8080/",
          "height": 450
        },
        "outputId": "6565736a-0085-4acf-e1ed-06627097e996"
      },
      "source": [
        "df[ (df['DEVICE']==df['DEVICE_Lag']) & (df['RESPONSE_STATUS_NAME']=='INFORMATION_NOT_VERIFIED_TITLE') & (df['Time_Lag'] < 120.) ]"
      ],
      "execution_count": 39,
      "outputs": [
        {
          "output_type": "execute_result",
          "data": {
            "text/html": [
              "<div>\n",
              "<style scoped>\n",
              "    .dataframe tbody tr th:only-of-type {\n",
              "        vertical-align: middle;\n",
              "    }\n",
              "\n",
              "    .dataframe tbody tr th {\n",
              "        vertical-align: top;\n",
              "    }\n",
              "\n",
              "    .dataframe thead th {\n",
              "        text-align: right;\n",
              "    }\n",
              "</style>\n",
              "<table border=\"1\" class=\"dataframe\">\n",
              "  <thead>\n",
              "    <tr style=\"text-align: right;\">\n",
              "      <th></th>\n",
              "      <th>RESPONSE_STATUS_ID</th>\n",
              "      <th>DEVICE</th>\n",
              "      <th>DEVICE_OS</th>\n",
              "      <th>RESPONSE_STATUS_NAME</th>\n",
              "      <th>Size</th>\n",
              "      <th>Page Count</th>\n",
              "      <th>LAST_UPDATE_TS</th>\n",
              "      <th>CLIENT_VERSION</th>\n",
              "      <th>Time_Lag</th>\n",
              "      <th>DEVICE_Lag</th>\n",
              "    </tr>\n",
              "    <tr>\n",
              "      <th>INSERT_TS</th>\n",
              "      <th></th>\n",
              "      <th></th>\n",
              "      <th></th>\n",
              "      <th></th>\n",
              "      <th></th>\n",
              "      <th></th>\n",
              "      <th></th>\n",
              "      <th></th>\n",
              "      <th></th>\n",
              "      <th></th>\n",
              "    </tr>\n",
              "  </thead>\n",
              "  <tbody>\n",
              "    <tr>\n",
              "      <th>2019-10-28 08:33:43</th>\n",
              "      <td>300200</td>\n",
              "      <td>SM-G960U</td>\n",
              "      <td>28</td>\n",
              "      <td>INFORMATION_NOT_VERIFIED_TITLE</td>\n",
              "      <td>0</td>\n",
              "      <td>0</td>\n",
              "      <td>2019-10-28 08:33:47</td>\n",
              "      <td>1.0</td>\n",
              "      <td>61.0</td>\n",
              "      <td>SM-G960U</td>\n",
              "    </tr>\n",
              "    <tr>\n",
              "      <th>2019-10-28 09:08:27</th>\n",
              "      <td>300200</td>\n",
              "      <td>iPhone 8 Plus</td>\n",
              "      <td>13.1.2</td>\n",
              "      <td>INFORMATION_NOT_VERIFIED_TITLE</td>\n",
              "      <td>0</td>\n",
              "      <td>0</td>\n",
              "      <td>2019-10-28 09:08:27</td>\n",
              "      <td>1.0.201910230000.2</td>\n",
              "      <td>69.0</td>\n",
              "      <td>iPhone 8 Plus</td>\n",
              "    </tr>\n",
              "    <tr>\n",
              "      <th>2019-10-28 09:49:39</th>\n",
              "      <td>300200</td>\n",
              "      <td>LM-G820</td>\n",
              "      <td>28</td>\n",
              "      <td>INFORMATION_NOT_VERIFIED_TITLE</td>\n",
              "      <td>0</td>\n",
              "      <td>0</td>\n",
              "      <td>2019-10-28 09:49:51</td>\n",
              "      <td>1.0</td>\n",
              "      <td>26.0</td>\n",
              "      <td>LM-G820</td>\n",
              "    </tr>\n",
              "    <tr>\n",
              "      <th>2019-10-28 09:54:54</th>\n",
              "      <td>300200</td>\n",
              "      <td>LM-G820</td>\n",
              "      <td>28</td>\n",
              "      <td>INFORMATION_NOT_VERIFIED_TITLE</td>\n",
              "      <td>0</td>\n",
              "      <td>0</td>\n",
              "      <td>2019-10-28 09:54:56</td>\n",
              "      <td>1.0</td>\n",
              "      <td>115.0</td>\n",
              "      <td>LM-G820</td>\n",
              "    </tr>\n",
              "    <tr>\n",
              "      <th>2019-10-28 11:01:46</th>\n",
              "      <td>300200</td>\n",
              "      <td>iPhone XS Max</td>\n",
              "      <td>13.1.3</td>\n",
              "      <td>INFORMATION_NOT_VERIFIED_TITLE</td>\n",
              "      <td>0</td>\n",
              "      <td>0</td>\n",
              "      <td>2019-10-28 11:01:46</td>\n",
              "      <td>1.0.201910230000.2</td>\n",
              "      <td>35.0</td>\n",
              "      <td>iPhone XS Max</td>\n",
              "    </tr>\n",
              "    <tr>\n",
              "      <th>...</th>\n",
              "      <td>...</td>\n",
              "      <td>...</td>\n",
              "      <td>...</td>\n",
              "      <td>...</td>\n",
              "      <td>...</td>\n",
              "      <td>...</td>\n",
              "      <td>...</td>\n",
              "      <td>...</td>\n",
              "      <td>...</td>\n",
              "      <td>...</td>\n",
              "    </tr>\n",
              "    <tr>\n",
              "      <th>2019-11-01 15:00:36</th>\n",
              "      <td>300200</td>\n",
              "      <td>Pixel 2 XL</td>\n",
              "      <td>28</td>\n",
              "      <td>INFORMATION_NOT_VERIFIED_TITLE</td>\n",
              "      <td>0</td>\n",
              "      <td>0</td>\n",
              "      <td>2019-11-01 15:00:36</td>\n",
              "      <td>1.0</td>\n",
              "      <td>41.0</td>\n",
              "      <td>Pixel 2 XL</td>\n",
              "    </tr>\n",
              "    <tr>\n",
              "      <th>2019-11-01 15:06:15</th>\n",
              "      <td>300200</td>\n",
              "      <td>iPhone XS Max</td>\n",
              "      <td>13.1.3</td>\n",
              "      <td>INFORMATION_NOT_VERIFIED_TITLE</td>\n",
              "      <td>0</td>\n",
              "      <td>0</td>\n",
              "      <td>2019-11-01 15:06:17</td>\n",
              "      <td>1.0.201910230000.2</td>\n",
              "      <td>35.0</td>\n",
              "      <td>iPhone XS Max</td>\n",
              "    </tr>\n",
              "    <tr>\n",
              "      <th>2019-11-01 15:11:05</th>\n",
              "      <td>300200</td>\n",
              "      <td>iPhone 8</td>\n",
              "      <td>13.1.3</td>\n",
              "      <td>INFORMATION_NOT_VERIFIED_TITLE</td>\n",
              "      <td>0</td>\n",
              "      <td>0</td>\n",
              "      <td>2019-11-01 15:11:05</td>\n",
              "      <td>1.0.201910230000.2</td>\n",
              "      <td>47.0</td>\n",
              "      <td>iPhone 8</td>\n",
              "    </tr>\n",
              "    <tr>\n",
              "      <th>2019-11-01 16:14:18</th>\n",
              "      <td>300200</td>\n",
              "      <td>iPhone XR</td>\n",
              "      <td>13.1.3</td>\n",
              "      <td>INFORMATION_NOT_VERIFIED_TITLE</td>\n",
              "      <td>0</td>\n",
              "      <td>0</td>\n",
              "      <td>2019-11-01 16:14:19</td>\n",
              "      <td>1.0.201910230000.2</td>\n",
              "      <td>47.0</td>\n",
              "      <td>iPhone XR</td>\n",
              "    </tr>\n",
              "    <tr>\n",
              "      <th>2019-11-01 16:14:57</th>\n",
              "      <td>300200</td>\n",
              "      <td>iPhone XR</td>\n",
              "      <td>12.4.1</td>\n",
              "      <td>INFORMATION_NOT_VERIFIED_TITLE</td>\n",
              "      <td>0</td>\n",
              "      <td>0</td>\n",
              "      <td>2019-11-01 16:15:00</td>\n",
              "      <td>1.0.201910230000.2</td>\n",
              "      <td>39.0</td>\n",
              "      <td>iPhone XR</td>\n",
              "    </tr>\n",
              "  </tbody>\n",
              "</table>\n",
              "<p>166 rows × 10 columns</p>\n",
              "</div>"
            ],
            "text/plain": [
              "                     RESPONSE_STATUS_ID         DEVICE  ... Time_Lag     DEVICE_Lag\n",
              "INSERT_TS                                               ...                        \n",
              "2019-10-28 08:33:43              300200       SM-G960U  ...     61.0       SM-G960U\n",
              "2019-10-28 09:08:27              300200  iPhone 8 Plus  ...     69.0  iPhone 8 Plus\n",
              "2019-10-28 09:49:39              300200        LM-G820  ...     26.0        LM-G820\n",
              "2019-10-28 09:54:54              300200        LM-G820  ...    115.0        LM-G820\n",
              "2019-10-28 11:01:46              300200  iPhone XS Max  ...     35.0  iPhone XS Max\n",
              "...                                 ...            ...  ...      ...            ...\n",
              "2019-11-01 15:00:36              300200     Pixel 2 XL  ...     41.0     Pixel 2 XL\n",
              "2019-11-01 15:06:15              300200  iPhone XS Max  ...     35.0  iPhone XS Max\n",
              "2019-11-01 15:11:05              300200       iPhone 8  ...     47.0       iPhone 8\n",
              "2019-11-01 16:14:18              300200      iPhone XR  ...     47.0      iPhone XR\n",
              "2019-11-01 16:14:57              300200      iPhone XR  ...     39.0      iPhone XR\n",
              "\n",
              "[166 rows x 10 columns]"
            ]
          },
          "metadata": {
            "tags": []
          },
          "execution_count": 39
        }
      ]
    },
    {
      "cell_type": "code",
      "metadata": {
        "id": "BGXQ6qEfxzOe",
        "colab_type": "code",
        "colab": {}
      },
      "source": [
        "import seaborn as sns\n",
        "sns.set(rc={'figure.figsize':(11, 4)})\n",
        "\n"
      ],
      "execution_count": 0,
      "outputs": []
    },
    {
      "cell_type": "code",
      "metadata": {
        "id": "e8Sqr2YQxzOg",
        "colab_type": "code",
        "colab": {}
      },
      "source": [
        "#df[\"RESPONSE_STATUS_ID\"].plot(marker='.', alpha=0.5, linestyle='None', figsize=(11, 9), subplots=True))\n",
        "\n",
        "df_Day = df.resample('D').sum()"
      ],
      "execution_count": 0,
      "outputs": []
    },
    {
      "cell_type": "code",
      "metadata": {
        "id": "Bt6mkR_YxzOi",
        "colab_type": "code",
        "colab": {
          "base_uri": "https://localhost:8080/",
          "height": 235
        },
        "outputId": "bb8019ce-b2be-4fcf-b6b3-4dc4dcacee9b"
      },
      "source": [
        "df_Day.head()"
      ],
      "execution_count": 44,
      "outputs": [
        {
          "output_type": "execute_result",
          "data": {
            "text/html": [
              "<div>\n",
              "<style scoped>\n",
              "    .dataframe tbody tr th:only-of-type {\n",
              "        vertical-align: middle;\n",
              "    }\n",
              "\n",
              "    .dataframe tbody tr th {\n",
              "        vertical-align: top;\n",
              "    }\n",
              "\n",
              "    .dataframe thead th {\n",
              "        text-align: right;\n",
              "    }\n",
              "</style>\n",
              "<table border=\"1\" class=\"dataframe\">\n",
              "  <thead>\n",
              "    <tr style=\"text-align: right;\">\n",
              "      <th></th>\n",
              "      <th>RESPONSE_STATUS_ID</th>\n",
              "      <th>Size</th>\n",
              "      <th>Page Count</th>\n",
              "      <th>Time_Lag</th>\n",
              "    </tr>\n",
              "    <tr>\n",
              "      <th>INSERT_TS</th>\n",
              "      <th></th>\n",
              "      <th></th>\n",
              "      <th></th>\n",
              "      <th></th>\n",
              "    </tr>\n",
              "  </thead>\n",
              "  <tbody>\n",
              "    <tr>\n",
              "      <th>2019-10-28</th>\n",
              "      <td>230888977</td>\n",
              "      <td>817416288</td>\n",
              "      <td>386</td>\n",
              "      <td>1.572307e+09</td>\n",
              "    </tr>\n",
              "    <tr>\n",
              "      <th>2019-10-29</th>\n",
              "      <td>311519162</td>\n",
              "      <td>1007247232</td>\n",
              "      <td>480</td>\n",
              "      <td>8.686800e+04</td>\n",
              "    </tr>\n",
              "    <tr>\n",
              "      <th>2019-10-30</th>\n",
              "      <td>359833300</td>\n",
              "      <td>1266789536</td>\n",
              "      <td>592</td>\n",
              "      <td>8.646500e+04</td>\n",
              "    </tr>\n",
              "    <tr>\n",
              "      <th>2019-10-31</th>\n",
              "      <td>310215202</td>\n",
              "      <td>1150769392</td>\n",
              "      <td>513</td>\n",
              "      <td>8.377600e+04</td>\n",
              "    </tr>\n",
              "    <tr>\n",
              "      <th>2019-11-01</th>\n",
              "      <td>264601802</td>\n",
              "      <td>801725568</td>\n",
              "      <td>340</td>\n",
              "      <td>6.227400e+04</td>\n",
              "    </tr>\n",
              "  </tbody>\n",
              "</table>\n",
              "</div>"
            ],
            "text/plain": [
              "            RESPONSE_STATUS_ID        Size  Page Count      Time_Lag\n",
              "INSERT_TS                                                           \n",
              "2019-10-28           230888977   817416288         386  1.572307e+09\n",
              "2019-10-29           311519162  1007247232         480  8.686800e+04\n",
              "2019-10-30           359833300  1266789536         592  8.646500e+04\n",
              "2019-10-31           310215202  1150769392         513  8.377600e+04\n",
              "2019-11-01           264601802   801725568         340  6.227400e+04"
            ]
          },
          "metadata": {
            "tags": []
          },
          "execution_count": 44
        }
      ]
    }
  ]
}